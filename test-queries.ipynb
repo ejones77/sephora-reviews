{
 "cells": [
  {
   "cell_type": "code",
   "execution_count": null,
   "metadata": {},
   "outputs": [
    {
     "name": "stderr",
     "output_type": "stream",
     "text": [
      "c:\\Users\\e77jo\\Documents\\420-DBM\\dbenv\\Lib\\site-packages\\pinecone\\index.py:4: TqdmWarning: IProgress not found. Please update jupyter and ipywidgets. See https://ipywidgets.readthedocs.io/en/stable/user_install.html\n",
      "  from tqdm.autonotebook import tqdm\n"
     ]
    }
   ],
   "source": [
    "import time\n",
    "import pinecone\n",
    "from sentence_transformers import SentenceTransformer\n",
    "import torch\n",
    "from pymongo.mongo_client import MongoClient\n",
    "import urllib\n",
    "from elasticsearch import Elasticsearch, RequestsHttpConnection\n",
    "import os\n",
    "from dotenv import load_dotenv\n",
    "load_dotenv()"
   ]
  },
  {
   "cell_type": "markdown",
   "metadata": {},
   "source": [
    "### Establish db connections"
   ]
  },
  {
   "cell_type": "code",
   "execution_count": null,
   "metadata": {},
   "outputs": [],
   "source": [
    "#Pinecone\n",
    "PINECONE_API_KEY = os.getenv(\"PINECONE_API_KEY\")\n",
    "PINECONE_ENV = os.getenv(\"PINECONE_ENV\")\n",
    "pinecone.init(\n",
    "    api_key=PINECONE_API_KEY,\n",
    "    environment=PINECONE_ENV\n",
    ")\n",
    "index_name = \"sephora-data\"\n",
    "index = pinecone.GRPCIndex(index_name)\n",
    "\n",
    "\n",
    "#MongoDB\n",
    "username = os.getenv(\"MONGO_USERNAME\")\n",
    "password = os.getenv(\"MONGO_PASSWORD\")\n",
    "cluster_uri = os.getenv(\"MONGO_URI\")\n",
    "uri = \"mongodb+srv://\" + username + \":\" + urllib.parse.quote(password) + cluster_uri\n",
    "# Create a new client and connect to the server\n",
    "mongo_client = MongoClient(uri)\n",
    "db_name = \"benchmark\"\n",
    "collection_name = \"sephora-data\"\n",
    "collection = mongo_client[db_name][collection_name]\n",
    "\n",
    "\n",
    "#Elastic\n",
    "ELASTIC_API_KEY = os.getenv(\"ELASTIC_API_KEY\")\n",
    "ELASTIC_URL= os.getenv(\"ELASTIC_URL\")\n",
    "elastic_client = Elasticsearch(ELASTIC_URL, \n",
    "                               api_key=ELASTIC_API_KEY,\n",
    "                               connection_class=RequestsHttpConnection)"
   ]
  },
  {
   "cell_type": "markdown",
   "metadata": {},
   "source": [
    "### Establish model connection"
   ]
  },
  {
   "cell_type": "code",
   "execution_count": 3,
   "metadata": {},
   "outputs": [],
   "source": [
    "device = 'cuda' if torch.cuda.is_available() else 'cpu'\n",
    "model = SentenceTransformer('multi-qa-MiniLM-L6-cos-v1', device=device)\n",
    "\n",
    "def embed_query(query: str) -> list:\n",
    "    return model.encode(query).tolist()"
   ]
  },
  {
   "cell_type": "markdown",
   "metadata": {},
   "source": [
    "## Questions to test"
   ]
  },
  {
   "cell_type": "markdown",
   "metadata": {},
   "source": [
    "### Question 1: What’s the best shampoo to buy for a brunette with a sensitive and dry scalp?"
   ]
  },
  {
   "cell_type": "markdown",
   "metadata": {},
   "source": [
    "For question 1 there will be two operations on each database  \n",
    "- a natural language search (encoded as a vector)\n",
    "- a more generic natural search with metadata filters. "
   ]
  },
  {
   "cell_type": "code",
   "execution_count": 4,
   "metadata": {},
   "outputs": [],
   "source": [
    "#pure natural language\n",
    "q1 = \"What's the best shampoo to buy for a brunette with a sensitive and dry scalp?\"\n",
    "f1 = \"What's the best shampoo to buy with a sensitive and dry scalp?\"\n",
    "query_1 = embed_query(q1)\n",
    "filtered_1 = embed_query(f1)"
   ]
  },
  {
   "cell_type": "markdown",
   "metadata": {},
   "source": [
    "#### Pinecone q1"
   ]
  },
  {
   "cell_type": "code",
   "execution_count": 5,
   "metadata": {},
   "outputs": [
    {
     "name": "stdout",
     "output_type": "stream",
     "text": [
      "Pinecone took 1.8824293613433838 seconds on natural language query 1\n",
      "Pinecone took 0.3021824359893799 seconds on filtered query 1\n"
     ]
    }
   ],
   "source": [
    "#pinecone \n",
    "start_time = time.time()\n",
    "pine_q1 = index.query(query_1, top_k=5, include_metadata=True)\n",
    "end_time = time.time()\n",
    "print(f\"Pinecone took {end_time - start_time} seconds on natural language query 1\")\n",
    "\n",
    "start_time = time.time()\n",
    "pine_f1 = index.query(filtered_1, \n",
    "                    filter={\n",
    "                        \"hair_color\" : \"brown\"},\n",
    "                    top_k=5,\n",
    "                    include_metadata=True\n",
    ")\n",
    "end_time = time.time()\n",
    "print(f\"Pinecone took {end_time - start_time} seconds on filtered query 1\")"
   ]
  },
  {
   "cell_type": "code",
   "execution_count": 6,
   "metadata": {},
   "outputs": [
    {
     "name": "stdout",
     "output_type": "stream",
     "text": [
      "0.56 '\n",
      "'             Hyaluronic Acid 2% + B5 Hydrating Serum '\n",
      "'             black '\n",
      "'             15.7 '\n",
      "'             Perfect cheap HA. Pro tip: put some drops in the ends of your hair before your hair dries. Thank me later\n",
      "0.54 '\n",
      "'             Pure Argan Milk Intensive Hydrating Treatment '\n",
      "'             Unknown '\n",
      "'             56.0 '\n",
      "'             Silky I’ve been in love with Josie’s products from the first time I’ve used them and this is another great product in my opinion. I wish it was a little less pricey as you are to use the Argan Oil after applying the Milk so those products together can get expensive. I started with a sample and my face glowed and I have now purchased the full size.\n",
      "0.53 '\n",
      "'             Ultra Repair Cream Intense Hydration '\n",
      "'             Unknown '\n",
      "'             38.0 '\n",
      "'             Best on the market This is the best!!! Soothing, moisturizing, even on sensitive skin. A must buy..\n",
      "0.52 '\n",
      "'             100 percent Pure Argan Oil '\n",
      "'             Unknown '\n",
      "'             49.0 '\n",
      "'             Love this for my hair I use a few drops of this oil on my hair every morning prior to drying and it has helped keep it shiny, smooth and soft. I am a brunette who colors my hair about every 5-6 weeks and my hair was getting frizzy and dry. I tried moroccan oil but didn’t care for the smell -This product allowed me to pull out the primary ingredient and its really made a noticeable change in my hair over the last three months. I have shoulder length hair and this size lasted me a little over 3 months.\n",
      "0.52 '\n",
      "'             Water Bank Blue Hyaluronic Cream Moisturizer '\n",
      "'             brown '\n",
      "'             40.0 '\n",
      "'             favorite high end moisturizer especially for dry skin\n"
     ]
    }
   ],
   "source": [
    "for result in pine_q1['matches']:\n",
    "    print(f\"{round(result['score'], 2)} '\\n' \\\n",
    "            {result['metadata']['product_name']} '\\n' \\\n",
    "            {result['metadata']['hair_color']} '\\n' \\\n",
    "            {result['metadata']['price_usd']} '\\n' \\\n",
    "            {result['metadata']['review_full']}\")"
   ]
  },
  {
   "cell_type": "code",
   "execution_count": 7,
   "metadata": {},
   "outputs": [
    {
     "name": "stdout",
     "output_type": "stream",
     "text": [
      "0.55 '\n",
      "'             Eye Revival Brightening Eye Cream '\n",
      "'             brown '\n",
      "'             55.0 '\n",
      "'             I have heard so many great things about DryBar so I was so excited to try this shampoo. First best thing I noticed was that a little product goes a very long way. I only put a small amount for my hair and it built up so much suds. Perfect for on the go especially when you have a smaller size bottle.\n",
      "0.55 '\n",
      "'             Water Bank Blue Hyaluronic Cream Moisturizer '\n",
      "'             brown '\n",
      "'             40.0 '\n",
      "'             favorite high end moisturizer especially for dry skin\n",
      "0.54 '\n",
      "'             100 percent Pure Argan Oil '\n",
      "'             brown '\n",
      "'             49.0 '\n",
      "'             Good product I received this as a free gift from Influenster and super excited that I did! I struggle with dry scalp, so I put a little bit on the problem areas before bed and it helps out a bunch! The applicator is great as well and easy to use.\n",
      "0.51 '\n",
      "'             Lip Sleeping Mask Intense Hydration with Vitamin C '\n",
      "'             brown '\n",
      "'             24.0 '\n",
      "'             I really wanted to love this product as I’m desperate to improve my dry lip issues. This left my lips so brittle and chapped I was embarrassed to leave the house the next day.  Do not recommend and I can’t believe I spent $20 on this sham.\n",
      "0.5 '\n",
      "'             100% Organic Cold-Pressed Moroccan Argan Oil '\n",
      "'             brown '\n",
      "'             7.5 '\n",
      "'             Amazing for hair Really nice hair product, only used a few times but my hair is so soft after I use it. Works best if scrunched on damp hair\n"
     ]
    }
   ],
   "source": [
    "for result in pine_f1['matches']:\n",
    "    print(f\"{round(result['score'], 2)} '\\n' \\\n",
    "            {result['metadata']['product_name']} '\\n' \\\n",
    "            {result['metadata']['hair_color']} '\\n' \\\n",
    "            {result['metadata']['price_usd']} '\\n' \\\n",
    "            {result['metadata']['review_full']}\")"
   ]
  },
  {
   "cell_type": "markdown",
   "metadata": {},
   "source": [
    "#### Mongo q1"
   ]
  },
  {
   "cell_type": "code",
   "execution_count": 8,
   "metadata": {},
   "outputs": [
    {
     "name": "stdout",
     "output_type": "stream",
     "text": [
      "MongoDB took 0.2648637294769287 seconds on natural language query 1\n",
      "MongoDB took 0.04560208320617676 seconds on filtered query 1\n"
     ]
    }
   ],
   "source": [
    "start_time = time.time()\n",
    "mongo_q1 = collection.aggregate([\n",
    "  {\"$vectorSearch\": {\n",
    "    \"queryVector\": query_1,\n",
    "    \"path\": \"values\",\n",
    "    \"numCandidates\": 100,\n",
    "    \"limit\": 5,\n",
    "    \"index\": \"sephora-index\",\n",
    "      }}\n",
    "])\n",
    "end_time = time.time()\n",
    "print(f\"MongoDB took {end_time - start_time} seconds on natural language query 1\")\n",
    "\n",
    "start_time = time.time()\n",
    "mongo_f1 = collection.aggregate([\n",
    "  {\"$vectorSearch\": {\n",
    "    \"queryVector\": filtered_1,\n",
    "    \"path\": \"values\",\n",
    "    \"numCandidates\": 100,\n",
    "    \"limit\": 5,\n",
    "    \"index\": \"sephora-index\",\n",
    "  }},\n",
    "  {\"$match\": {\"metadata.hair_color\": \"brown\"}}\n",
    "])\n",
    "end_time = time.time()\n",
    "\n",
    "print(f\"MongoDB took {end_time - start_time} seconds on filtered query 1\")"
   ]
  },
  {
   "cell_type": "code",
   "execution_count": 9,
   "metadata": {},
   "outputs": [
    {
     "name": "stdout",
     "output_type": "stream",
     "text": [
      "Pure Argan Milk Intensive Hydrating Treatment '\n",
      "'             Unknown '\n",
      "'             56.0 '\n",
      "'             Silky I’ve been in love with Josie’s products from the first time I’ve used them and this is another great product in my opinion. I wish it was a little less pricey as you are to use the Argan Oil after applying the Milk so those products together can get expensive. I started with a sample and my face glowed and I have now purchased the full size.\n",
      "Ultra Repair Cream Intense Hydration '\n",
      "'             Unknown '\n",
      "'             38.0 '\n",
      "'             Best on the market This is the best!!! Soothing, moisturizing, even on sensitive skin. A must buy..\n",
      "100 percent Pure Argan Oil '\n",
      "'             Unknown '\n",
      "'             49.0 '\n",
      "'             Love this for my hair I use a few drops of this oil on my hair every morning prior to drying and it has helped keep it shiny, smooth and soft. I am a brunette who colors my hair about every 5-6 weeks and my hair was getting frizzy and dry. I tried moroccan oil but didn’t care for the smell -This product allowed me to pull out the primary ingredient and its really made a noticeable change in my hair over the last three months. I have shoulder length hair and this size lasted me a little over 3 months.\n",
      "Water Bank Blue Hyaluronic Cream Moisturizer '\n",
      "'             brown '\n",
      "'             40.0 '\n",
      "'             favorite high end moisturizer especially for dry skin\n",
      "Eye Revival Brightening Eye Cream '\n",
      "'             brown '\n",
      "'             55.0 '\n",
      "'             I have heard so many great things about DryBar so I was so excited to try this shampoo. First best thing I noticed was that a little product goes a very long way. I only put a small amount for my hair and it built up so much suds. Perfect for on the go especially when you have a smaller size bottle.\n"
     ]
    }
   ],
   "source": [
    "for result in mongo_q1:\n",
    "    print(f\"{result['metadata']['product_name']} '\\n' \\\n",
    "            {result['metadata']['hair_color']} '\\n' \\\n",
    "            {result['metadata']['price_usd']} '\\n' \\\n",
    "            {result['metadata']['review_full']}\")"
   ]
  },
  {
   "cell_type": "code",
   "execution_count": 10,
   "metadata": {},
   "outputs": [
    {
     "name": "stdout",
     "output_type": "stream",
     "text": [
      "Eye Revival Brightening Eye Cream '\n",
      "'             brown '\n",
      "'             55.0 '\n",
      "'             I have heard so many great things about DryBar so I was so excited to try this shampoo. First best thing I noticed was that a little product goes a very long way. I only put a small amount for my hair and it built up so much suds. Perfect for on the go especially when you have a smaller size bottle.\n",
      "Water Bank Blue Hyaluronic Cream Moisturizer '\n",
      "'             brown '\n",
      "'             40.0 '\n",
      "'             favorite high end moisturizer especially for dry skin\n",
      "100 percent Pure Argan Oil '\n",
      "'             brown '\n",
      "'             49.0 '\n",
      "'             Good product I received this as a free gift from Influenster and super excited that I did! I struggle with dry scalp, so I put a little bit on the problem areas before bed and it helps out a bunch! The applicator is great as well and easy to use.\n"
     ]
    }
   ],
   "source": [
    "for result in mongo_f1:\n",
    "    print(f\"{result['metadata']['product_name']} '\\n' \\\n",
    "            {result['metadata']['hair_color']} '\\n' \\\n",
    "            {result['metadata']['price_usd']} '\\n' \\\n",
    "            {result['metadata']['review_full']}\")"
   ]
  },
  {
   "cell_type": "markdown",
   "metadata": {},
   "source": [
    "#### Elastic q1"
   ]
  },
  {
   "cell_type": "code",
   "execution_count": 11,
   "metadata": {},
   "outputs": [
    {
     "name": "stdout",
     "output_type": "stream",
     "text": [
      "Elastic took 0.460951566696167 seconds on natural language query 1\n",
      "Elastic took 0.06017112731933594 seconds on filtered query 1\n"
     ]
    }
   ],
   "source": [
    "body_q1 = {\n",
    "    \"query\": {\n",
    "        \"script_score\": {\n",
    "            \"query\": {\"match_all\": {}},\n",
    "            \"script\": {\n",
    "                \"source\": \"cosineSimilarity(params.query_vector, 'values') + 1.0\",\n",
    "                \"params\": {\"query_vector\": query_1}\n",
    "            }\n",
    "        }\n",
    "    },\n",
    "    \"size\": 5\n",
    "}\n",
    "\n",
    "body_f1 = {\n",
    "    \"query\": {\n",
    "        \"bool\": {\n",
    "            \"must\": {\n",
    "                \"script_score\": {\n",
    "                    \"query\": {\"match_all\": {}},\n",
    "                    \"script\": {\n",
    "                        \"source\": \"cosineSimilarity(params.query_vector, 'values') + 1.0\",\n",
    "                        \"params\": {\"query_vector\": filtered_1}\n",
    "                    }\n",
    "                }\n",
    "            },\n",
    "            \"filter\": [\n",
    "                {\"term\": {\"metadata.hair_color.keyword\": \"brown\"}}\n",
    "            ]\n",
    "        }\n",
    "    },\n",
    "    \"size\": 5\n",
    "}\n",
    "\n",
    "start_time = time.time()\n",
    "elsatic_q1 = elastic_client.search(index=\"sephora-data\", body=body_q1)\n",
    "end_time = time.time()\n",
    "print(f\"Elastic took {end_time - start_time} seconds on natural language query 1\")\n",
    "\n",
    "start_time = time.time()\n",
    "elsatic_f1 = elastic_client.search(index=\"sephora-data\", body=body_f1)\n",
    "end_time = time.time()\n",
    "print(f\"Elastic took {end_time - start_time} seconds on filtered query 1\")\n",
    "\n"
   ]
  },
  {
   "cell_type": "code",
   "execution_count": 12,
   "metadata": {},
   "outputs": [
    {
     "name": "stdout",
     "output_type": "stream",
     "text": [
      "Score: 1.5581014, '\n",
      "'            product name: Hyaluronic Acid 2% + B5 Hydrating Serum '\n",
      "'            hair color: black '\n",
      "'            review: Perfect cheap HA. Pro tip: put some drops in the ends of your hair before your hair dries. Thank me later\n",
      "Score: 1.5425476, '\n",
      "'            product name: Pure Argan Milk Intensive Hydrating Treatment '\n",
      "'            hair color: Unknown '\n",
      "'            review: Silky I’ve been in love with Josie’s products from the first time I’ve used them and this is another great product in my opinion. I wish it was a little less pricey as you are to use the Argan Oil after applying the Milk so those products together can get expensive. I started with a sample and my face glowed and I have now purchased the full size.\n",
      "Score: 1.5285108, '\n",
      "'            product name: Ultra Repair Cream Intense Hydration '\n",
      "'            hair color: Unknown '\n",
      "'            review: Best on the market This is the best!!! Soothing, moisturizing, even on sensitive skin. A must buy..\n",
      "Score: 1.5240474, '\n",
      "'            product name: 100 percent Pure Argan Oil '\n",
      "'            hair color: Unknown '\n",
      "'            review: Love this for my hair I use a few drops of this oil on my hair every morning prior to drying and it has helped keep it shiny, smooth and soft. I am a brunette who colors my hair about every 5-6 weeks and my hair was getting frizzy and dry. I tried moroccan oil but didn’t care for the smell -This product allowed me to pull out the primary ingredient and its really made a noticeable change in my hair over the last three months. I have shoulder length hair and this size lasted me a little over 3 months.\n",
      "Score: 1.5215006, '\n",
      "'            product name: Water Bank Blue Hyaluronic Cream Moisturizer '\n",
      "'            hair color: brown '\n",
      "'            review: favorite high end moisturizer especially for dry skin\n"
     ]
    }
   ],
   "source": [
    "for hit in elsatic_q1['hits']['hits']:\n",
    "    print(f\"Score: {hit['_score']}, '\\n' \\\n",
    "           product name: {hit['_source']['metadata']['product_name']} '\\n' \\\n",
    "           hair color: {hit['_source']['metadata']['hair_color']} '\\n' \\\n",
    "           review: {hit['_source']['metadata']['review_full']}\")"
   ]
  },
  {
   "cell_type": "code",
   "execution_count": 13,
   "metadata": {},
   "outputs": [
    {
     "name": "stdout",
     "output_type": "stream",
     "text": [
      "Score: 1.5547749, '\n",
      "'            product name: Eye Revival Brightening Eye Cream '\n",
      "'            review: I have heard so many great things about DryBar so I was so excited to try this shampoo. First best thing I noticed was that a little product goes a very long way. I only put a small amount for my hair and it built up so much suds. Perfect for on the go especially when you have a smaller size bottle.\n",
      "Score: 1.5529599, '\n",
      "'            product name: Water Bank Blue Hyaluronic Cream Moisturizer '\n",
      "'            review: favorite high end moisturizer especially for dry skin\n",
      "Score: 1.5356183, '\n",
      "'            product name: 100 percent Pure Argan Oil '\n",
      "'            review: Good product I received this as a free gift from Influenster and super excited that I did! I struggle with dry scalp, so I put a little bit on the problem areas before bed and it helps out a bunch! The applicator is great as well and easy to use.\n",
      "Score: 1.5105603, '\n",
      "'            product name: Lip Sleeping Mask Intense Hydration with Vitamin C '\n",
      "'            review: I really wanted to love this product as I’m desperate to improve my dry lip issues. This left my lips so brittle and chapped I was embarrassed to leave the house the next day.  Do not recommend and I can’t believe I spent $20 on this sham.\n",
      "Score: 1.5032494, '\n",
      "'            product name: 100% Organic Cold-Pressed Moroccan Argan Oil '\n",
      "'            review: Amazing for hair Really nice hair product, only used a few times but my hair is so soft after I use it. Works best if scrunched on damp hair\n"
     ]
    }
   ],
   "source": [
    "for hit in elsatic_f1['hits']['hits']:\n",
    "    print(f\"Score: {hit['_score']}, '\\n' \\\n",
    "           product name: {hit['_source']['metadata']['product_name']} '\\n' \\\n",
    "           review: {hit['_source']['metadata']['review_full']}\")"
   ]
  },
  {
   "cell_type": "markdown",
   "metadata": {},
   "source": [
    "It's clear that these results include products other than shampoos -\n",
    "\n",
    "- pinecone does not support regex matches.\n",
    "- mongo db does but only after a vector search query, not before\n",
    "- elastic should be able to support this "
   ]
  },
  {
   "cell_type": "code",
   "execution_count": 14,
   "metadata": {},
   "outputs": [
    {
     "name": "stdout",
     "output_type": "stream",
     "text": [
      "Score: 1.5547749, '\n",
      "'            product name: Eye Revival Brightening Eye Cream '\n",
      "'            review: I have heard so many great things about DryBar so I was so excited to try this shampoo. First best thing I noticed was that a little product goes a very long way. I only put a small amount for my hair and it built up so much suds. Perfect for on the go especially when you have a smaller size bottle.\n",
      "Score: 1.3699973, '\n",
      "'            product name: Crème Radiance Gentle Cleansing Creamy-Foam Cleanser '\n",
      "'            review: #1 Makeup brush shampoo Dont wash my face with it as it dries my face out, but it is the best makeup brush or beauty blender cleanser I have ever used.\n",
      "Score: 1.3531227, '\n",
      "'            product name: 100% Plant-Derived Hemi-Squalane '\n",
      "'            review: I bought this because I had originally tried the retinol 1% in squalane and was so impressed with its moisturizing. Then I read a few reviews where people really liked it on hair as well. I have super fine curly hair that gets weighed down quite easily but now I’m using this after almost every shampoo, sometimes just by itself. It does not weigh my hair down at all, softens wonderfully, and tames frizz fairly well. I have yet to use too much. I also tend to get scalp build-up really easy and this doesn’t build up. Bonus is that it also works awesome for applying other scalp serums that might be thicker and harder to apply; thins them out and makes them last longer. And yes, it’s still wonderful on the face too!\n"
     ]
    }
   ],
   "source": [
    "elastic_f11 = {\n",
    "    \"query\": {\n",
    "        \"bool\": {\n",
    "            \"must\": {\n",
    "                \"script_score\": {\n",
    "                    \"query\": {\"match_all\": {}},\n",
    "                    \"script\": {\n",
    "                        \"source\": \"cosineSimilarity(params.query_vector, 'values') + 1.0\",\n",
    "                        \"params\": {\"query_vector\": filtered_1}\n",
    "                    }\n",
    "                }\n",
    "            },\n",
    "            \"filter\": [\n",
    "                {\"term\": {\"metadata.hair_color.keyword\": \"brown\"}},\n",
    "                {\"match\": {\"metadata.review_full\": \"shampoo\"}}\n",
    "            ]\n",
    "        }\n",
    "    }\n",
    "}\n",
    "\n",
    "\n",
    "result = elastic_client.search(index=\"sephora-data\", body=elastic_f11)\n",
    "\n",
    "for hit in result['hits']['hits']:\n",
    "    print(f\"Score: {hit['_score']}, '\\n' \\\n",
    "           product name: {hit['_source']['metadata']['product_name']} '\\n' \\\n",
    "           review: {hit['_source']['metadata']['review_full']}\")"
   ]
  },
  {
   "cell_type": "markdown",
   "metadata": {},
   "source": [
    "### Question 2: What’s the worst makeup for hiding blemishes?"
   ]
  },
  {
   "cell_type": "code",
   "execution_count": 15,
   "metadata": {},
   "outputs": [],
   "source": [
    "#question 2 we'll just look at natural language.\n",
    "q2 = \"What’s the worst makeup for hiding blemishes?\"\n",
    "query_2 = embed_query(q2)"
   ]
  },
  {
   "cell_type": "markdown",
   "metadata": {},
   "source": [
    "#### Pinecone q2"
   ]
  },
  {
   "cell_type": "code",
   "execution_count": 16,
   "metadata": {},
   "outputs": [
    {
     "name": "stdout",
     "output_type": "stream",
     "text": [
      "Pinecone took 0.08999848365783691 seconds on natural language query 2\n"
     ]
    }
   ],
   "source": [
    "start_time = time.time()\n",
    "pine_q2 = index.query(query_2, top_k=5, include_metadata=True)\n",
    "end_time = time.time()\n",
    "print(f\"Pinecone took {end_time - start_time} seconds on natural language query 2\")"
   ]
  },
  {
   "cell_type": "code",
   "execution_count": 17,
   "metadata": {},
   "outputs": [
    {
     "name": "stdout",
     "output_type": "stream",
     "text": [
      "0.7 '\n",
      "'             Acne Control Clarifying Cream Cleanser '\n",
      "'             Unknown '\n",
      "'             39.0 '\n",
      "'             Great This product is really convincing in removing blemishes.\n",
      "0.68 '\n",
      "'             Acne Solutions Clinical Clearing Gel '\n",
      "'             Unknown '\n",
      "'             32.0 '\n",
      "'             Best Ever! This is my go to once I notice a blemish ready to start, or already formed! This does have a harsh sting at first, my recommendation is to just fan yourself for a few seconds! lol The outcome is worth a few seconds of agony!! :) If you’re determined to fight the blemish, and fast..what I do is apply it around 2 - 3 times a day. The next day the blemish is dramatically less noticeable! By the third/fourth day, it may still be there...but you’re the only one that notices it! Especially with a slight dab of concealer. This stuff is seriously fantastic! :)\n",
      "0.66 '\n",
      "'             Super Spot Remover Acne Treatment Gel '\n",
      "'             black '\n",
      "'             20.0 '\n",
      "'             Awesome product for spot blemishes!\n",
      "0.66 '\n",
      "'             Rapid Relief Acne Spot Treatment '\n",
      "'             brown '\n",
      "'             26.0 '\n",
      "'             i never write reviews but this is such an amazing product so i had to. i apply it on any blemishes i have at night and the next morning they’re almost invisible if not completely gone, highly recommend.\n",
      "0.66 '\n",
      "'             Rapid Relief Acne Spot Treatment '\n",
      "'             black '\n",
      "'             26.0 '\n",
      "'             Works very well at drying out the top layer of my skin, but never the actual blemish. I had such high hopes for it because I’ve been recommended it by so many people, but it just didn’t work for me personally.\n"
     ]
    }
   ],
   "source": [
    "for result in pine_q2['matches']:\n",
    "    print(f\"{round(result['score'], 2)} '\\n' \\\n",
    "            {result['metadata']['product_name']} '\\n' \\\n",
    "            {result['metadata']['hair_color']} '\\n' \\\n",
    "            {result['metadata']['price_usd']} '\\n' \\\n",
    "            {result['metadata']['review_full']}\")"
   ]
  },
  {
   "cell_type": "markdown",
   "metadata": {},
   "source": [
    "#### Mongo q2"
   ]
  },
  {
   "cell_type": "code",
   "execution_count": 18,
   "metadata": {},
   "outputs": [
    {
     "name": "stdout",
     "output_type": "stream",
     "text": [
      "MongoDB took 0.06300091743469238 seconds on natural language query 2\n"
     ]
    }
   ],
   "source": [
    "start_time = time.time()\n",
    "mongo_q2 = collection.aggregate([\n",
    "  {\"$vectorSearch\": {\n",
    "    \"queryVector\": query_2,\n",
    "    \"path\": \"values\",\n",
    "    \"numCandidates\": 100,\n",
    "    \"limit\": 5,\n",
    "    \"index\": \"sephora-index\",\n",
    "      }}\n",
    "])\n",
    "end_time = time.time()\n",
    "print(f\"MongoDB took {end_time - start_time} seconds on natural language query 2\")"
   ]
  },
  {
   "cell_type": "code",
   "execution_count": 19,
   "metadata": {},
   "outputs": [
    {
     "name": "stdout",
     "output_type": "stream",
     "text": [
      "Acne Control Clarifying Cream Cleanser '\n",
      "'             Unknown '\n",
      "'             39.0 '\n",
      "'             Great This product is really convincing in removing blemishes.\n",
      "Acne Solutions Clinical Clearing Gel '\n",
      "'             Unknown '\n",
      "'             32.0 '\n",
      "'             Best Ever! This is my go to once I notice a blemish ready to start, or already formed! This does have a harsh sting at first, my recommendation is to just fan yourself for a few seconds! lol The outcome is worth a few seconds of agony!! :) If you’re determined to fight the blemish, and fast..what I do is apply it around 2 - 3 times a day. The next day the blemish is dramatically less noticeable! By the third/fourth day, it may still be there...but you’re the only one that notices it! Especially with a slight dab of concealer. This stuff is seriously fantastic! :)\n",
      "Super Spot Remover Acne Treatment Gel '\n",
      "'             black '\n",
      "'             20.0 '\n",
      "'             Awesome product for spot blemishes!\n",
      "Rapid Relief Acne Spot Treatment '\n",
      "'             black '\n",
      "'             26.0 '\n",
      "'             Works very well at drying out the top layer of my skin, but never the actual blemish. I had such high hopes for it because I’ve been recommended it by so many people, but it just didn’t work for me personally.\n",
      "Rapid Relief Acne Spot Treatment '\n",
      "'             brown '\n",
      "'             26.0 '\n",
      "'             i never write reviews but this is such an amazing product so i had to. i apply it on any blemishes i have at night and the next morning they’re almost invisible if not completely gone, highly recommend.\n"
     ]
    }
   ],
   "source": [
    "for result in mongo_q2:\n",
    "    print(f\"{result['metadata']['product_name']} '\\n' \\\n",
    "            {result['metadata']['hair_color']} '\\n' \\\n",
    "            {result['metadata']['price_usd']} '\\n' \\\n",
    "            {result['metadata']['review_full']}\")"
   ]
  },
  {
   "cell_type": "markdown",
   "metadata": {},
   "source": [
    "#### Elastic q2"
   ]
  },
  {
   "cell_type": "code",
   "execution_count": 20,
   "metadata": {},
   "outputs": [
    {
     "name": "stdout",
     "output_type": "stream",
     "text": [
      "Elastic took 0.07151508331298828 seconds on natural language query 2\n"
     ]
    }
   ],
   "source": [
    "body_q2 = {\n",
    "    \"query\": {\n",
    "        \"script_score\": {\n",
    "            \"query\": {\"match_all\": {}},\n",
    "            \"script\": {\n",
    "                \"source\": \"cosineSimilarity(params.query_vector, 'values') + 1.0\",\n",
    "                \"params\": {\"query_vector\": query_2}\n",
    "            }\n",
    "        }\n",
    "    },\n",
    "    \"size\": 5\n",
    "}\n",
    "\n",
    "start_time = time.time()\n",
    "elsatic_q2 = elastic_client.search(index=\"sephora-data\", body=body_q2)\n",
    "end_time = time.time()\n",
    "print(f\"Elastic took {end_time - start_time} seconds on natural language query 2\")"
   ]
  },
  {
   "cell_type": "code",
   "execution_count": 21,
   "metadata": {},
   "outputs": [
    {
     "name": "stdout",
     "output_type": "stream",
     "text": [
      "Score: 1.7048737, '\n",
      "'            product name: Acne Control Clarifying Cream Cleanser '\n",
      "'            review: Great This product is really convincing in removing blemishes.\n",
      "Score: 1.679861, '\n",
      "'            product name: Acne Solutions Clinical Clearing Gel '\n",
      "'            review: Best Ever! This is my go to once I notice a blemish ready to start, or already formed! This does have a harsh sting at first, my recommendation is to just fan yourself for a few seconds! lol The outcome is worth a few seconds of agony!! :) If you’re determined to fight the blemish, and fast..what I do is apply it around 2 - 3 times a day. The next day the blemish is dramatically less noticeable! By the third/fourth day, it may still be there...but you’re the only one that notices it! Especially with a slight dab of concealer. This stuff is seriously fantastic! :)\n",
      "Score: 1.6596596, '\n",
      "'            product name: Super Spot Remover Acne Treatment Gel '\n",
      "'            review: Awesome product for spot blemishes!\n",
      "Score: 1.6565623, '\n",
      "'            product name: Rapid Relief Acne Spot Treatment '\n",
      "'            review: Works very well at drying out the top layer of my skin, but never the actual blemish. I had such high hopes for it because I’ve been recommended it by so many people, but it just didn’t work for me personally.\n",
      "Score: 1.6563919, '\n",
      "'            product name: Rapid Relief Acne Spot Treatment '\n",
      "'            review: i never write reviews but this is such an amazing product so i had to. i apply it on any blemishes i have at night and the next morning they’re almost invisible if not completely gone, highly recommend.\n"
     ]
    }
   ],
   "source": [
    "for hit in elsatic_q2['hits']['hits']:\n",
    "    print(f\"Score: {hit['_score']}, '\\n' \\\n",
    "           product name: {hit['_source']['metadata']['product_name']} '\\n' \\\n",
    "           review: {hit['_source']['metadata']['review_full']}\")"
   ]
  },
  {
   "cell_type": "markdown",
   "metadata": {},
   "source": [
    "### Question 3: Find all reviews for Vitamin C serum that helps with dark spots."
   ]
  },
  {
   "cell_type": "code",
   "execution_count": 22,
   "metadata": {},
   "outputs": [],
   "source": [
    "q3 = \"What vitamin C serum helps with dark spots?\"\n",
    "query_3 = embed_query(q3)"
   ]
  },
  {
   "cell_type": "markdown",
   "metadata": {},
   "source": [
    "#### Pinecone q3"
   ]
  },
  {
   "cell_type": "code",
   "execution_count": 23,
   "metadata": {},
   "outputs": [
    {
     "name": "stdout",
     "output_type": "stream",
     "text": [
      "Pinecone took 0.6796462535858154 seconds on natural language query 3\n"
     ]
    }
   ],
   "source": [
    "#to fetch all we'll set top_k to 10000 which is the max\n",
    "start_time = time.time()\n",
    "pine_q3 = index.query(query_3, top_k=10000)\n",
    "end_time = time.time()\n",
    "print(f\"Pinecone took {end_time - start_time} seconds on natural language query 3\")"
   ]
  },
  {
   "cell_type": "markdown",
   "metadata": {},
   "source": [
    "#### Mongo q3"
   ]
  },
  {
   "cell_type": "code",
   "execution_count": 24,
   "metadata": {},
   "outputs": [
    {
     "name": "stdout",
     "output_type": "stream",
     "text": [
      "MongoDB took 0.4671671390533447 seconds on natural language query 3\n"
     ]
    }
   ],
   "source": [
    "start_time = time.time()\n",
    "mongo_q3 = collection.aggregate([\n",
    "  {\"$vectorSearch\": {\n",
    "    \"queryVector\": query_3,\n",
    "    \"path\": \"values\",\n",
    "    \"numCandidates\": 10000,\n",
    "    \"limit\": 10000,\n",
    "    \"index\": \"sephora-index\",\n",
    "      }}\n",
    "])\n",
    "end_time = time.time()\n",
    "print(f\"MongoDB took {end_time - start_time} seconds on natural language query 3\")"
   ]
  },
  {
   "cell_type": "markdown",
   "metadata": {},
   "source": [
    "#### Elastic q3"
   ]
  },
  {
   "cell_type": "code",
   "execution_count": 25,
   "metadata": {},
   "outputs": [
    {
     "name": "stdout",
     "output_type": "stream",
     "text": [
      "Elastic took 4.800441741943359 seconds on natural language query 3\n"
     ]
    }
   ],
   "source": [
    "body_q3 = {\n",
    "    \"query\": {\n",
    "        \"script_score\": {\n",
    "            \"query\": {\"match_all\": {}},\n",
    "            \"script\": {\n",
    "                \"source\": \"cosineSimilarity(params.query_vector, 'values') + 1.0\",\n",
    "                \"params\": {\"query_vector\": query_3}\n",
    "            }\n",
    "        }\n",
    "    },\n",
    "    \"size\": 10000\n",
    "}\n",
    "\n",
    "start_time = time.time()\n",
    "elsatic_q3 = elastic_client.search(index=\"sephora-data\", body=body_q3)\n",
    "end_time = time.time()\n",
    "print(f\"Elastic took {end_time - start_time} seconds on natural language query 3\")"
   ]
  },
  {
   "cell_type": "markdown",
   "metadata": {},
   "source": [
    "### Question 4: Given a positive review for a leave-in product for curly hair, what are the 5 most similar reviews?"
   ]
  },
  {
   "cell_type": "code",
   "execution_count": 26,
   "metadata": {},
   "outputs": [
    {
     "name": "stdout",
     "output_type": "stream",
     "text": [
      "[-0.11061471700668335, -0.09305941313505173, 0.06998290866613388, 0.04913369193673134, -0.07237361371517181, -0.010709412395954132, -0.030219286680221558, -0.016525983810424805, 0.013994907028973103, -0.09154359251260757, 0.0003219138307031244, 0.05123697966337204, 0.020507624372839928, -0.05676449090242386, -0.01618495024740696, 0.09382764995098114, 0.09126223623752594, 0.0865832269191742, -0.05141039937734604, 0.014926222153007984, -0.008923793211579323, -0.03260035812854767, 0.0016374229453504086, 0.03791555389761925, -0.01389245130121708, -0.001275827526114881, 0.06089259311556816, -0.026064421981573105, -0.03318677842617035, 0.008265053853392601, 0.009154515340924263, -0.03126682713627815, -0.02408178150653839, -0.07214127480983734, -0.041307780891656876, -0.005910374689847231, -0.060330357402563095, 0.03793245926499367, -0.014002078212797642, 0.03979220241308212, -0.014990572817623615, -0.08283542096614838, -0.06576273590326309, -0.02713456191122532, 0.058262817561626434, 0.009271240793168545, 0.01387403067201376, 0.08090096712112427, -0.06222235783934593, -0.024678420275449753, -0.02554456703364849, -0.0242727342993021, -0.03901410475373268, -0.03426284343004227, -0.012364824302494526, 0.01856732927262783, -0.05036357417702675, -0.0021808810997754335, -0.021964335814118385, 0.0779699981212616, 0.061568908393383026, -0.041276320815086365, 0.01299564354121685, 0.025149576365947723, -0.0032554399222135544, -0.10719503462314606, -0.04250446334481239, 0.031220708042383194, -0.003741986583918333, -0.0478142574429512, -0.00676035275682807, 0.07120195031166077, -0.07424204796552658, 0.13605473935604095, 0.05252032354474068, 0.06756404042243958, 0.05236072465777397, -0.07214633375406265, -0.003976041916757822, -0.02862762100994587, 0.005710186902433634, -0.023820845410227776, 0.05180643871426582, 0.0496157743036747, 0.02394726686179638, 0.054103631526231766, 0.039981842041015625, -0.0063524190336465836, -0.007141750771552324, 0.013108797371387482, 0.014634694904088974, -0.027876200154423714, -0.0178462415933609, 0.008121058344841003, 0.07753340899944305, 0.03398911654949188, -0.09351159632205963, -0.07601842284202576, -0.023458752781152725, 0.01427222415804863, 0.003414187580347061, -0.06754765659570694, 0.011880986392498016, -0.1377105414867401, -0.010091712698340416, -0.03340144082903862, -0.0016839373856782913, -0.06291134655475616, 0.043897200375795364, -0.036881376057863235, -0.010738746263086796, -0.09697850048542023, -0.02953196130692959, -0.010382559150457382, -0.10151582956314087, -0.07434699684381485, 0.05448427051305771, 0.027067391201853752, -0.013850088231265545, 0.10357151180505753, -0.04089214280247688, 0.026399238035082817, 0.016705751419067383, -0.06457577645778656, -0.08696159720420837, 0.05673728138208389, 0.01237177848815918, -4.679208547911463e-31, -0.0228931475430727, 0.036706287413835526, 0.001162440632469952, 0.04558521881699562, -0.0035962534602731466, 0.033159881830215454, -0.005182933993637562, -0.08356218039989471, -0.10445409268140793, 0.02887725457549095, 0.08768834918737411, 0.0006198855699039996, -0.01890486292541027, 0.046159617602825165, -0.04230082035064697, 0.004730388522148132, 0.043731726706027985, 0.046030279248952866, 0.05904363840818405, -0.009359371848404408, 0.044572483748197556, 0.14811871945858002, -0.027263455092906952, -0.045347459614276886, -0.11770977824926376, -0.06075434386730194, -0.0077769942581653595, -0.027865298092365265, 0.011956743896007538, 0.03166669234633446, -0.01439095288515091, 0.018795615062117577, -0.0053136409260332584, -0.11512758582830429, -0.016418103128671646, -0.046790044754743576, 0.03714143484830856, -0.08371169120073318, 0.01647104322910309, 0.060424793511629105, -0.005388224497437477, -0.004116607829928398, -0.011025631800293922, 0.03756893053650856, -0.02127264067530632, 0.05666413903236389, -0.014154108241200447, 0.022999806329607964, 0.011305714026093483, 0.01193896122276783, -0.018180599436163902, 0.05751828849315643, 0.04597301036119461, 0.046123016625642776, -0.037750326097011566, 0.010648139752447605, 0.024708066135644913, 0.039419468492269516, 0.10008301585912704, 0.04950128495693207, -0.08123743534088135, 0.04132329300045967, -0.0799262523651123, -0.16758441925048828, -0.07790578156709671, -0.05044745281338692, -0.024532373994588852, 0.03605123981833458, -0.0006892382516525686, 0.02178022265434265, 0.014622396789491177, 0.04299911856651306, 0.05632994323968887, -0.03546247258782387, 0.05398816242814064, 0.0021552888210862875, 0.12263322621583939, 0.04080855846405029, -0.030708717182278633, -0.024304183200001717, 0.02628081478178501, 0.10291042178869247, 0.0015435833483934402, 0.05056596174836159, 0.019934773445129395, 0.06281915307044983, -0.1344824582338333, -0.026636525988578796, -0.013929878361523151, 0.02081354334950447, 0.0313938669860363, -0.025685520842671394, 0.00163542409427464, 0.03221938759088516, -0.058409251272678375, -6.475885806072324e-33, -0.019667666405439377, -0.002663739724084735, -0.030558189377188683, 0.07582344859838486, 0.0825643390417099, 0.0019296574173495173, -0.0361386202275753, -0.009855114854872227, -0.06165282428264618, 0.02051723189651966, 0.10308608412742615, -0.0013670648913830519, -0.031186727806925774, 0.005450100637972355, -0.004611623007804155, 0.044686902314424515, -0.004490512423217297, -0.006488841958343983, -0.029277104884386063, 0.007839017547667027, -0.013527672737836838, 0.02773449756205082, -0.008908510208129883, 0.09527350962162018, -0.030628899112343788, 0.011470968835055828, -0.02589753270149231, 0.006843850947916508, -0.0048814150504767895, 0.018935829401016235, 0.008816368877887726, -0.06449107825756073, -0.030033856630325317, -0.047290265560150146, 0.006131304427981377, -0.007901295088231564, -0.07820311933755875, -0.04971439763903618, 0.0025935154408216476, 0.028664907440543175, -0.018852198496460915, -0.09144808351993561, 0.0674506276845932, -0.0923207700252533, 0.07395132631063461, 0.010510284453630447, -0.022882917895913124, -0.05546125769615173, 0.053563155233860016, 0.04678923264145851, 0.008327609859406948, 0.006528670899569988, -0.05647170543670654, 0.06439351290464401, 0.007270521949976683, -0.07967310398817062, -0.002065475797280669, 0.004084242507815361, -0.0473252572119236, 0.12816442549228668, -0.0487561859190464, -0.002259884960949421, -0.014656193554401398, 0.0941663458943367, -0.06923700124025345, -0.024049071595072746, -0.014144874177873135, -0.08291785418987274, -0.0225144661962986, -0.04598033055663109, -0.053210802376270294, 0.05482293665409088, -0.06032496318221092, 0.035270918160676956, 0.08596942573785782, 0.06309614330530167, 0.0267426036298275, -0.11842231452465057, -0.004555538762360811, 0.11077767610549927, -0.07701804488897324, -0.015479507856070995, -0.0040401434525847435, -0.04851742461323738, 0.013130937702953815, 0.0040950775146484375, -0.08688199520111084, 0.015835123136639595, -0.013162950985133648, -0.05340759828686714, 0.004464741796255112, 0.0031869930680841208, -0.057781632989645004, -0.013052701018750668, 0.021626343950629234, -4.4569382590205516e-33, 0.04177260026335716, -0.004653077106922865, 0.05904753506183624, 0.024953659623861313, -0.04513536021113396, -0.039927300065755844, -0.030284864827990532, -0.002958628349006176, 0.02170916274189949, -0.027461791411042213, -0.02512568235397339, 0.05842612311244011, -0.0720863863825798, 0.07136479765176773, 0.06657832115888596, 0.06687351316213608, 0.04841027781367302, 0.09839943796396255, 0.03542565926909447, -0.10405232757329941, 0.03847964480519295, -0.005703822709619999, 0.11923348903656006, -0.03556188568472862, 0.004588469862937927, -0.04222071170806885, 0.03152614086866379, 0.011673945002257824, -0.07634399831295013, -0.060569897294044495, 0.07739181071519852, 0.008751191198825836, 0.020490208640694618, -0.011260191909968853, 0.049029093235731125, 0.03364240750670433, -0.009518633596599102, 0.019827622920274734, -0.07480628043413162, 0.011960342526435852, 0.02177734673023224, -0.011544449254870415, 0.01382441259920597, -0.04261457175016403, -0.028724035248160362, -0.021220052614808083, 0.10719551891088486, 0.011632445268332958, -0.030324051156640053, 0.07452277094125748, 0.02316970005631447, 0.044810377061367035, -0.00518041243776679, 0.08270952850580215, 0.08182581514120102, -0.02743575908243656, -0.024822622537612915, -0.09465541690587997, -0.04468799754977226, 0.03780745342373848, -0.0012597691966220737, 0.04935649782419205, 0.024520212784409523, -0.00978538766503334] '\n",
      "'             100 percent Pure Argan Oil '\n",
      "'             Unknown '\n",
      "'             49.0 '\n",
      "'             Curly Girl's Dream-come-true! I wish there were words for how much I love this! It’s so multipurpose and amazing!!!!I’m a user of the curly girl method (no shampoo, sulfates, etc) and this works AMAZINGLY with my hair routine! About once a month I shampoo my hair to remove build up (using Devacurl’s Low-poo) and follow it up with some deep conditioner and then apply this from my ears down. I have naturally curly, dry hair with some greys and this is AMAZING! My hair feels silky, springy and softer than ever! It’s a miracle in a bottle!On my skin is works miracles on my combination skin. My forehead is always intensely dry in winter and this has been a life saver! On my dry elbows-heaven!!I will keep repurchasing and recommending this product!\n"
     ]
    }
   ],
   "source": [
    "#Let's find a similar review first then pass it in \n",
    "curly = embed_query(\"Best leave-in product curly hair\")\n",
    "mongo_curly = collection.aggregate([\n",
    "  {\"$vectorSearch\": {\n",
    "    \"queryVector\": curly,\n",
    "    \"path\": \"values\",\n",
    "    \"numCandidates\": 100,\n",
    "    \"limit\": 1,\n",
    "    \"index\": \"sephora-index\",\n",
    "      }}\n",
    "])\n",
    "\n",
    "for result in mongo_curly:\n",
    "    print(f\"{result['values']} '\\n' \\\n",
    "            {result['metadata']['product_name']} '\\n' \\\n",
    "            {result['metadata']['hair_color']} '\\n' \\\n",
    "            {result['metadata']['price_usd']} '\\n' \\\n",
    "            {result['metadata']['review_full']}\")\n",
    "  "
   ]
  },
  {
   "cell_type": "code",
   "execution_count": 27,
   "metadata": {},
   "outputs": [
    {
     "data": {
      "text/plain": [
       "[-0.11061471700668335,\n",
       " -0.09305941313505173,\n",
       " 0.06998290866613388,\n",
       " 0.04913369193673134,\n",
       " -0.07237361371517181,\n",
       " -0.010709412395954132,\n",
       " -0.030219286680221558,\n",
       " -0.016525983810424805,\n",
       " 0.013994907028973103,\n",
       " -0.09154359251260757,\n",
       " 0.0003219138307031244,\n",
       " 0.05123697966337204,\n",
       " 0.020507624372839928,\n",
       " -0.05676449090242386,\n",
       " -0.01618495024740696,\n",
       " 0.09382764995098114,\n",
       " 0.09126223623752594,\n",
       " 0.0865832269191742,\n",
       " -0.05141039937734604,\n",
       " 0.014926222153007984,\n",
       " -0.008923793211579323,\n",
       " -0.03260035812854767,\n",
       " 0.0016374229453504086,\n",
       " 0.03791555389761925,\n",
       " -0.01389245130121708,\n",
       " -0.001275827526114881,\n",
       " 0.06089259311556816,\n",
       " -0.026064421981573105,\n",
       " -0.03318677842617035,\n",
       " 0.008265053853392601,\n",
       " 0.009154515340924263,\n",
       " -0.03126682713627815,\n",
       " -0.02408178150653839,\n",
       " -0.07214127480983734,\n",
       " -0.041307780891656876,\n",
       " -0.005910374689847231,\n",
       " -0.060330357402563095,\n",
       " 0.03793245926499367,\n",
       " -0.014002078212797642,\n",
       " 0.03979220241308212,\n",
       " -0.014990572817623615,\n",
       " -0.08283542096614838,\n",
       " -0.06576273590326309,\n",
       " -0.02713456191122532,\n",
       " 0.058262817561626434,\n",
       " 0.009271240793168545,\n",
       " 0.01387403067201376,\n",
       " 0.08090096712112427,\n",
       " -0.06222235783934593,\n",
       " -0.024678420275449753,\n",
       " -0.02554456703364849,\n",
       " -0.0242727342993021,\n",
       " -0.03901410475373268,\n",
       " -0.03426284343004227,\n",
       " -0.012364824302494526,\n",
       " 0.01856732927262783,\n",
       " -0.05036357417702675,\n",
       " -0.0021808810997754335,\n",
       " -0.021964335814118385,\n",
       " 0.0779699981212616,\n",
       " 0.061568908393383026,\n",
       " -0.041276320815086365,\n",
       " 0.01299564354121685,\n",
       " 0.025149576365947723,\n",
       " -0.0032554399222135544,\n",
       " -0.10719503462314606,\n",
       " -0.04250446334481239,\n",
       " 0.031220708042383194,\n",
       " -0.003741986583918333,\n",
       " -0.0478142574429512,\n",
       " -0.00676035275682807,\n",
       " 0.07120195031166077,\n",
       " -0.07424204796552658,\n",
       " 0.13605473935604095,\n",
       " 0.05252032354474068,\n",
       " 0.06756404042243958,\n",
       " 0.05236072465777397,\n",
       " -0.07214633375406265,\n",
       " -0.003976041916757822,\n",
       " -0.02862762100994587,\n",
       " 0.005710186902433634,\n",
       " -0.023820845410227776,\n",
       " 0.05180643871426582,\n",
       " 0.0496157743036747,\n",
       " 0.02394726686179638,\n",
       " 0.054103631526231766,\n",
       " 0.039981842041015625,\n",
       " -0.0063524190336465836,\n",
       " -0.007141750771552324,\n",
       " 0.013108797371387482,\n",
       " 0.014634694904088974,\n",
       " -0.027876200154423714,\n",
       " -0.0178462415933609,\n",
       " 0.008121058344841003,\n",
       " 0.07753340899944305,\n",
       " 0.03398911654949188,\n",
       " -0.09351159632205963,\n",
       " -0.07601842284202576,\n",
       " -0.023458752781152725,\n",
       " 0.01427222415804863,\n",
       " 0.003414187580347061,\n",
       " -0.06754765659570694,\n",
       " 0.011880986392498016,\n",
       " -0.1377105414867401,\n",
       " -0.010091712698340416,\n",
       " -0.03340144082903862,\n",
       " -0.0016839373856782913,\n",
       " -0.06291134655475616,\n",
       " 0.043897200375795364,\n",
       " -0.036881376057863235,\n",
       " -0.010738746263086796,\n",
       " -0.09697850048542023,\n",
       " -0.02953196130692959,\n",
       " -0.010382559150457382,\n",
       " -0.10151582956314087,\n",
       " -0.07434699684381485,\n",
       " 0.05448427051305771,\n",
       " 0.027067391201853752,\n",
       " -0.013850088231265545,\n",
       " 0.10357151180505753,\n",
       " -0.04089214280247688,\n",
       " 0.026399238035082817,\n",
       " 0.016705751419067383,\n",
       " -0.06457577645778656,\n",
       " -0.08696159720420837,\n",
       " 0.05673728138208389,\n",
       " 0.01237177848815918,\n",
       " -4.679208547911463e-31,\n",
       " -0.0228931475430727,\n",
       " 0.036706287413835526,\n",
       " 0.001162440632469952,\n",
       " 0.04558521881699562,\n",
       " -0.0035962534602731466,\n",
       " 0.033159881830215454,\n",
       " -0.005182933993637562,\n",
       " -0.08356218039989471,\n",
       " -0.10445409268140793,\n",
       " 0.02887725457549095,\n",
       " 0.08768834918737411,\n",
       " 0.0006198855699039996,\n",
       " -0.01890486292541027,\n",
       " 0.046159617602825165,\n",
       " -0.04230082035064697,\n",
       " 0.004730388522148132,\n",
       " 0.043731726706027985,\n",
       " 0.046030279248952866,\n",
       " 0.05904363840818405,\n",
       " -0.009359371848404408,\n",
       " 0.044572483748197556,\n",
       " 0.14811871945858002,\n",
       " -0.027263455092906952,\n",
       " -0.045347459614276886,\n",
       " -0.11770977824926376,\n",
       " -0.06075434386730194,\n",
       " -0.0077769942581653595,\n",
       " -0.027865298092365265,\n",
       " 0.011956743896007538,\n",
       " 0.03166669234633446,\n",
       " -0.01439095288515091,\n",
       " 0.018795615062117577,\n",
       " -0.0053136409260332584,\n",
       " -0.11512758582830429,\n",
       " -0.016418103128671646,\n",
       " -0.046790044754743576,\n",
       " 0.03714143484830856,\n",
       " -0.08371169120073318,\n",
       " 0.01647104322910309,\n",
       " 0.060424793511629105,\n",
       " -0.005388224497437477,\n",
       " -0.004116607829928398,\n",
       " -0.011025631800293922,\n",
       " 0.03756893053650856,\n",
       " -0.02127264067530632,\n",
       " 0.05666413903236389,\n",
       " -0.014154108241200447,\n",
       " 0.022999806329607964,\n",
       " 0.011305714026093483,\n",
       " 0.01193896122276783,\n",
       " -0.018180599436163902,\n",
       " 0.05751828849315643,\n",
       " 0.04597301036119461,\n",
       " 0.046123016625642776,\n",
       " -0.037750326097011566,\n",
       " 0.010648139752447605,\n",
       " 0.024708066135644913,\n",
       " 0.039419468492269516,\n",
       " 0.10008301585912704,\n",
       " 0.04950128495693207,\n",
       " -0.08123743534088135,\n",
       " 0.04132329300045967,\n",
       " -0.0799262523651123,\n",
       " -0.16758441925048828,\n",
       " -0.07790578156709671,\n",
       " -0.05044745281338692,\n",
       " -0.024532373994588852,\n",
       " 0.03605123981833458,\n",
       " -0.0006892382516525686,\n",
       " 0.02178022265434265,\n",
       " 0.014622396789491177,\n",
       " 0.04299911856651306,\n",
       " 0.05632994323968887,\n",
       " -0.03546247258782387,\n",
       " 0.05398816242814064,\n",
       " 0.0021552888210862875,\n",
       " 0.12263322621583939,\n",
       " 0.04080855846405029,\n",
       " -0.030708717182278633,\n",
       " -0.024304183200001717,\n",
       " 0.02628081478178501,\n",
       " 0.10291042178869247,\n",
       " 0.0015435833483934402,\n",
       " 0.05056596174836159,\n",
       " 0.019934773445129395,\n",
       " 0.06281915307044983,\n",
       " -0.1344824582338333,\n",
       " -0.026636525988578796,\n",
       " -0.013929878361523151,\n",
       " 0.02081354334950447,\n",
       " 0.0313938669860363,\n",
       " -0.025685520842671394,\n",
       " 0.00163542409427464,\n",
       " 0.03221938759088516,\n",
       " -0.058409251272678375,\n",
       " -6.475885806072324e-33,\n",
       " -0.019667666405439377,\n",
       " -0.002663739724084735,\n",
       " -0.030558189377188683,\n",
       " 0.07582344859838486,\n",
       " 0.0825643390417099,\n",
       " 0.0019296574173495173,\n",
       " -0.0361386202275753,\n",
       " -0.009855114854872227,\n",
       " -0.06165282428264618,\n",
       " 0.02051723189651966,\n",
       " 0.10308608412742615,\n",
       " -0.0013670648913830519,\n",
       " -0.031186727806925774,\n",
       " 0.005450100637972355,\n",
       " -0.004611623007804155,\n",
       " 0.044686902314424515,\n",
       " -0.004490512423217297,\n",
       " -0.006488841958343983,\n",
       " -0.029277104884386063,\n",
       " 0.007839017547667027,\n",
       " -0.013527672737836838,\n",
       " 0.02773449756205082,\n",
       " -0.008908510208129883,\n",
       " 0.09527350962162018,\n",
       " -0.030628899112343788,\n",
       " 0.011470968835055828,\n",
       " -0.02589753270149231,\n",
       " 0.006843850947916508,\n",
       " -0.0048814150504767895,\n",
       " 0.018935829401016235,\n",
       " 0.008816368877887726,\n",
       " -0.06449107825756073,\n",
       " -0.030033856630325317,\n",
       " -0.047290265560150146,\n",
       " 0.006131304427981377,\n",
       " -0.007901295088231564,\n",
       " -0.07820311933755875,\n",
       " -0.04971439763903618,\n",
       " 0.0025935154408216476,\n",
       " 0.028664907440543175,\n",
       " -0.018852198496460915,\n",
       " -0.09144808351993561,\n",
       " 0.0674506276845932,\n",
       " -0.0923207700252533,\n",
       " 0.07395132631063461,\n",
       " 0.010510284453630447,\n",
       " -0.022882917895913124,\n",
       " -0.05546125769615173,\n",
       " 0.053563155233860016,\n",
       " 0.04678923264145851,\n",
       " 0.008327609859406948,\n",
       " 0.006528670899569988,\n",
       " -0.05647170543670654,\n",
       " 0.06439351290464401,\n",
       " 0.007270521949976683,\n",
       " -0.07967310398817062,\n",
       " -0.002065475797280669,\n",
       " 0.004084242507815361,\n",
       " -0.0473252572119236,\n",
       " 0.12816442549228668,\n",
       " -0.0487561859190464,\n",
       " -0.002259884960949421,\n",
       " -0.014656193554401398,\n",
       " 0.0941663458943367,\n",
       " -0.06923700124025345,\n",
       " -0.024049071595072746,\n",
       " -0.014144874177873135,\n",
       " -0.08291785418987274,\n",
       " -0.0225144661962986,\n",
       " -0.04598033055663109,\n",
       " -0.053210802376270294,\n",
       " 0.05482293665409088,\n",
       " -0.06032496318221092,\n",
       " 0.035270918160676956,\n",
       " 0.08596942573785782,\n",
       " 0.06309614330530167,\n",
       " 0.0267426036298275,\n",
       " -0.11842231452465057,\n",
       " -0.004555538762360811,\n",
       " 0.11077767610549927,\n",
       " -0.07701804488897324,\n",
       " -0.015479507856070995,\n",
       " -0.0040401434525847435,\n",
       " -0.04851742461323738,\n",
       " 0.013130937702953815,\n",
       " 0.0040950775146484375,\n",
       " -0.08688199520111084,\n",
       " 0.015835123136639595,\n",
       " -0.013162950985133648,\n",
       " -0.05340759828686714,\n",
       " 0.004464741796255112,\n",
       " 0.0031869930680841208,\n",
       " -0.057781632989645004,\n",
       " -0.013052701018750668,\n",
       " 0.021626343950629234,\n",
       " -4.4569382590205516e-33,\n",
       " 0.04177260026335716,\n",
       " -0.004653077106922865,\n",
       " 0.05904753506183624,\n",
       " 0.024953659623861313,\n",
       " -0.04513536021113396,\n",
       " -0.039927300065755844,\n",
       " -0.030284864827990532,\n",
       " -0.002958628349006176,\n",
       " 0.02170916274189949,\n",
       " -0.027461791411042213,\n",
       " -0.02512568235397339,\n",
       " 0.05842612311244011,\n",
       " -0.0720863863825798,\n",
       " 0.07136479765176773,\n",
       " 0.06657832115888596,\n",
       " 0.06687351316213608,\n",
       " 0.04841027781367302,\n",
       " 0.09839943796396255,\n",
       " 0.03542565926909447,\n",
       " -0.10405232757329941,\n",
       " 0.03847964480519295,\n",
       " -0.005703822709619999,\n",
       " 0.11923348903656006,\n",
       " -0.03556188568472862,\n",
       " 0.004588469862937927,\n",
       " -0.04222071170806885,\n",
       " 0.03152614086866379,\n",
       " 0.011673945002257824,\n",
       " -0.07634399831295013,\n",
       " -0.060569897294044495,\n",
       " 0.07739181071519852,\n",
       " 0.008751191198825836,\n",
       " 0.020490208640694618,\n",
       " -0.011260191909968853,\n",
       " 0.049029093235731125,\n",
       " 0.03364240750670433,\n",
       " -0.009518633596599102,\n",
       " 0.019827622920274734,\n",
       " -0.07480628043413162,\n",
       " 0.011960342526435852,\n",
       " 0.02177734673023224,\n",
       " -0.011544449254870415,\n",
       " 0.01382441259920597,\n",
       " -0.04261457175016403,\n",
       " -0.028724035248160362,\n",
       " -0.021220052614808083,\n",
       " 0.10719551891088486,\n",
       " 0.011632445268332958,\n",
       " -0.030324051156640053,\n",
       " 0.07452277094125748,\n",
       " 0.02316970005631447,\n",
       " 0.044810377061367035,\n",
       " -0.00518041243776679,\n",
       " 0.08270952850580215,\n",
       " 0.08182581514120102,\n",
       " -0.02743575908243656,\n",
       " -0.024822622537612915,\n",
       " -0.09465541690587997,\n",
       " -0.04468799754977226,\n",
       " 0.03780745342373848,\n",
       " -0.0012597691966220737,\n",
       " 0.04935649782419205,\n",
       " 0.024520212784409523,\n",
       " -0.00978538766503334]"
      ]
     },
     "execution_count": 27,
     "metadata": {},
     "output_type": "execute_result"
    }
   ],
   "source": [
    "#have to run it again because the cursor is exhausted after printing once. \n",
    "mongo_curly = collection.aggregate([\n",
    "  {\"$vectorSearch\": {\n",
    "    \"queryVector\": curly,\n",
    "    \"path\": \"values\",\n",
    "    \"numCandidates\": 100,\n",
    "    \"limit\": 1,\n",
    "    \"index\": \"sephora-index\",\n",
    "      }}\n",
    "])\n",
    "#it's a list of embeddings within a list -- getting [0] ensures it's a single list\n",
    "embedding_q4 = [result['values'] for result in mongo_curly][0]\n",
    "embedding_q4"
   ]
  },
  {
   "cell_type": "markdown",
   "metadata": {},
   "source": [
    "#### Pinecone q4"
   ]
  },
  {
   "cell_type": "code",
   "execution_count": 28,
   "metadata": {},
   "outputs": [
    {
     "name": "stdout",
     "output_type": "stream",
     "text": [
      "Pinecone took 1.227785587310791 seconds on natural language query 4\n"
     ]
    }
   ],
   "source": [
    "start_time = time.time()\n",
    "pine_q4= index.query(embedding_q4, top_k=5, include_metadata=True)\n",
    "end_time = time.time()\n",
    "print(f\"Pinecone took {end_time - start_time} seconds on natural language query 4\")"
   ]
  },
  {
   "cell_type": "code",
   "execution_count": 29,
   "metadata": {},
   "outputs": [
    {
     "name": "stdout",
     "output_type": "stream",
     "text": [
      "1.0 '\n",
      "'             100 percent Pure Argan Oil '\n",
      "'             Unknown '\n",
      "'             49.0 '\n",
      "'             Curly Girl's Dream-come-true! I wish there were words for how much I love this! It’s so multipurpose and amazing!!!!I’m a user of the curly girl method (no shampoo, sulfates, etc) and this works AMAZINGLY with my hair routine! About once a month I shampoo my hair to remove build up (using Devacurl’s Low-poo) and follow it up with some deep conditioner and then apply this from my ears down. I have naturally curly, dry hair with some greys and this is AMAZING! My hair feels silky, springy and softer than ever! It’s a miracle in a bottle!On my skin is works miracles on my combination skin. My forehead is always intensely dry in winter and this has been a life saver! On my dry elbows-heaven!!I will keep repurchasing and recommending this product!\n",
      "0.66 '\n",
      "'             100 percent Pure Argan Oil '\n",
      "'             Unknown '\n",
      "'             49.0 '\n",
      "'             Beyond Fabulous! This is the best product out there for dry, curly hair to control frizz! It also multitasks which is a huge bonus. It’s worth every cent!!!\n",
      "0.63 '\n",
      "'             100 percent Pure Argan Oil '\n",
      "'             brown '\n",
      "'             49.0 '\n",
      "'             AMAZING for my Dry Scalp! I have a super dry scalp, but it also used to over produce oil. So I believed that I had an oily scalp, when that was in fact a lie. This is very helpful to use on my scalp to hydrate my scalp. I also use it on my ends to help keep them strong and free of breakage. Ever since I started using this product, my hair is much stronger, and looks much healthier. I apply this to my scalp and ends before I shower, I leave it in with a shower cap on for 20 minutes, I brush through my whole hair, I shower and wash and condition my hair and I brush through and braid it again. When I do that whole routine, it is so helpful. I do this about once a month as this is an expensive product and I use a lot! I use olive oil twice a week, when I wash my hair, instead of using this oil, I do get decent results, but not nearly as good as results that I get when I use this oil.\n",
      "0.63 '\n",
      "'             Silk Pillowcase - Standard/Queen '\n",
      "'             Unknown '\n",
      "'             89.0 '\n",
      "'             dreamy I actually love this. After reading reviews I was skeptical but it’s so soft and beautiful. I do think that it’s helped with my skin and my hair stays softer. Just take care of it!\n",
      "0.6 '\n",
      "'             100 percent Pure Argan Oil '\n",
      "'             Unknown '\n",
      "'             49.0 '\n",
      "'             Miracle Product I probably woulnd’t have tried this product ordinarily, but it came in the latest Superstars kit, and I wasn’t entirely sure what to do with it. I started using it in my hair at night to help moisturize it, and I really love it for that. It smooths out my hair and makes it softer, without making it look greasy or dirty. I can even go a day without washing after using it, which confirms the claim it is a “dry“ oil. My skin is very dry, and there isn’t one single moisturizer that fully works for me, but I decided to start using this on my face twice a day. AMAZING. I feel the difference in my skin immediately, the tightness is gone, my skin feels so soft. I have started turning my friends and my mom on to this product, everyone should have a bottle! Bonus - After applying it to your face or hair, just rub it in to your hands and up your arms! It is the only product I use where I don’t wash my hands afterwards!\n"
     ]
    }
   ],
   "source": [
    "for result in pine_q4['matches']:\n",
    "    print(f\"{round(result['score'], 2)} '\\n' \\\n",
    "            {result['metadata']['product_name']} '\\n' \\\n",
    "            {result['metadata']['hair_color']} '\\n' \\\n",
    "            {result['metadata']['price_usd']} '\\n' \\\n",
    "            {result['metadata']['review_full']}\")"
   ]
  },
  {
   "cell_type": "markdown",
   "metadata": {},
   "source": [
    "#### Mongo q4"
   ]
  },
  {
   "cell_type": "code",
   "execution_count": 30,
   "metadata": {},
   "outputs": [
    {
     "name": "stdout",
     "output_type": "stream",
     "text": [
      "MongoDB took 0.0670614242553711 seconds on natural language query 4\n"
     ]
    }
   ],
   "source": [
    "start_time = time.time()\n",
    "mongo_q4 = collection.aggregate([\n",
    "  {\"$vectorSearch\": {\n",
    "    \"queryVector\": embedding_q4,\n",
    "    \"path\": \"values\",\n",
    "    \"numCandidates\": 100,\n",
    "    \"limit\": 5,\n",
    "    \"index\": \"sephora-index\",\n",
    "      }}\n",
    "])\n",
    "end_time = time.time()\n",
    "print(f\"MongoDB took {end_time - start_time} seconds on natural language query 4\")"
   ]
  },
  {
   "cell_type": "code",
   "execution_count": 31,
   "metadata": {},
   "outputs": [
    {
     "name": "stdout",
     "output_type": "stream",
     "text": [
      "100 percent Pure Argan Oil '\n",
      "'             Unknown '\n",
      "'             49.0 '\n",
      "'             Curly Girl's Dream-come-true! I wish there were words for how much I love this! It’s so multipurpose and amazing!!!!I’m a user of the curly girl method (no shampoo, sulfates, etc) and this works AMAZINGLY with my hair routine! About once a month I shampoo my hair to remove build up (using Devacurl’s Low-poo) and follow it up with some deep conditioner and then apply this from my ears down. I have naturally curly, dry hair with some greys and this is AMAZING! My hair feels silky, springy and softer than ever! It’s a miracle in a bottle!On my skin is works miracles on my combination skin. My forehead is always intensely dry in winter and this has been a life saver! On my dry elbows-heaven!!I will keep repurchasing and recommending this product!\n",
      "100 percent Pure Argan Oil '\n",
      "'             Unknown '\n",
      "'             49.0 '\n",
      "'             Beyond Fabulous! This is the best product out there for dry, curly hair to control frizz! It also multitasks which is a huge bonus. It’s worth every cent!!!\n",
      "100 percent Pure Argan Oil '\n",
      "'             brown '\n",
      "'             49.0 '\n",
      "'             AMAZING for my Dry Scalp! I have a super dry scalp, but it also used to over produce oil. So I believed that I had an oily scalp, when that was in fact a lie. This is very helpful to use on my scalp to hydrate my scalp. I also use it on my ends to help keep them strong and free of breakage. Ever since I started using this product, my hair is much stronger, and looks much healthier. I apply this to my scalp and ends before I shower, I leave it in with a shower cap on for 20 minutes, I brush through my whole hair, I shower and wash and condition my hair and I brush through and braid it again. When I do that whole routine, it is so helpful. I do this about once a month as this is an expensive product and I use a lot! I use olive oil twice a week, when I wash my hair, instead of using this oil, I do get decent results, but not nearly as good as results that I get when I use this oil.\n",
      "Silk Pillowcase - Standard/Queen '\n",
      "'             Unknown '\n",
      "'             89.0 '\n",
      "'             dreamy I actually love this. After reading reviews I was skeptical but it’s so soft and beautiful. I do think that it’s helped with my skin and my hair stays softer. Just take care of it!\n",
      "100 percent Pure Argan Oil '\n",
      "'             Unknown '\n",
      "'             49.0 '\n",
      "'             Miracle Product I probably woulnd’t have tried this product ordinarily, but it came in the latest Superstars kit, and I wasn’t entirely sure what to do with it. I started using it in my hair at night to help moisturize it, and I really love it for that. It smooths out my hair and makes it softer, without making it look greasy or dirty. I can even go a day without washing after using it, which confirms the claim it is a “dry“ oil. My skin is very dry, and there isn’t one single moisturizer that fully works for me, but I decided to start using this on my face twice a day. AMAZING. I feel the difference in my skin immediately, the tightness is gone, my skin feels so soft. I have started turning my friends and my mom on to this product, everyone should have a bottle! Bonus - After applying it to your face or hair, just rub it in to your hands and up your arms! It is the only product I use where I don’t wash my hands afterwards!\n"
     ]
    }
   ],
   "source": [
    "for result in mongo_q4:\n",
    "    print(f\"{result['metadata']['product_name']} '\\n' \\\n",
    "            {result['metadata']['hair_color']} '\\n' \\\n",
    "            {result['metadata']['price_usd']} '\\n' \\\n",
    "            {result['metadata']['review_full']}\")"
   ]
  },
  {
   "cell_type": "markdown",
   "metadata": {},
   "source": [
    "#### Elastic q4"
   ]
  },
  {
   "cell_type": "code",
   "execution_count": 32,
   "metadata": {},
   "outputs": [
    {
     "name": "stdout",
     "output_type": "stream",
     "text": [
      "Elastic took 0.11104846000671387 seconds on natural language query 4\n"
     ]
    }
   ],
   "source": [
    "body_q4 = {\n",
    "    \"query\": {\n",
    "        \"script_score\": {\n",
    "            \"query\": {\"match_all\": {}},\n",
    "            \"script\": {\n",
    "                \"source\": \"cosineSimilarity(params.query_vector, 'values') + 1.0\",\n",
    "                \"params\": {\"query_vector\": embedding_q4}\n",
    "            }\n",
    "        }\n",
    "    },\n",
    "    \"size\": 5\n",
    "}\n",
    "\n",
    "start_time = time.time()\n",
    "elsatic_q4 = elastic_client.search(index=\"sephora-data\", body=body_q4)\n",
    "end_time = time.time()\n",
    "print(f\"Elastic took {end_time - start_time} seconds on natural language query 4\")"
   ]
  },
  {
   "cell_type": "code",
   "execution_count": 33,
   "metadata": {},
   "outputs": [
    {
     "name": "stdout",
     "output_type": "stream",
     "text": [
      "Score: 2.0, '\n",
      "'            product name: 100 percent Pure Argan Oil '\n",
      "'            review: Curly Girl's Dream-come-true! I wish there were words for how much I love this! It’s so multipurpose and amazing!!!!I’m a user of the curly girl method (no shampoo, sulfates, etc) and this works AMAZINGLY with my hair routine! About once a month I shampoo my hair to remove build up (using Devacurl’s Low-poo) and follow it up with some deep conditioner and then apply this from my ears down. I have naturally curly, dry hair with some greys and this is AMAZING! My hair feels silky, springy and softer than ever! It’s a miracle in a bottle!On my skin is works miracles on my combination skin. My forehead is always intensely dry in winter and this has been a life saver! On my dry elbows-heaven!!I will keep repurchasing and recommending this product!\n",
      "Score: 1.6559019, '\n",
      "'            product name: 100 percent Pure Argan Oil '\n",
      "'            review: Beyond Fabulous! This is the best product out there for dry, curly hair to control frizz! It also multitasks which is a huge bonus. It’s worth every cent!!!\n",
      "Score: 1.6336799, '\n",
      "'            product name: 100 percent Pure Argan Oil '\n",
      "'            review: AMAZING for my Dry Scalp! I have a super dry scalp, but it also used to over produce oil. So I believed that I had an oily scalp, when that was in fact a lie. This is very helpful to use on my scalp to hydrate my scalp. I also use it on my ends to help keep them strong and free of breakage. Ever since I started using this product, my hair is much stronger, and looks much healthier. I apply this to my scalp and ends before I shower, I leave it in with a shower cap on for 20 minutes, I brush through my whole hair, I shower and wash and condition my hair and I brush through and braid it again. When I do that whole routine, it is so helpful. I do this about once a month as this is an expensive product and I use a lot! I use olive oil twice a week, when I wash my hair, instead of using this oil, I do get decent results, but not nearly as good as results that I get when I use this oil.\n",
      "Score: 1.6332362, '\n",
      "'            product name: Silk Pillowcase - Standard/Queen '\n",
      "'            review: dreamy I actually love this. After reading reviews I was skeptical but it’s so soft and beautiful. I do think that it’s helped with my skin and my hair stays softer. Just take care of it!\n",
      "Score: 1.602909, '\n",
      "'            product name: 100 percent Pure Argan Oil '\n",
      "'            review: Miracle Product I probably woulnd’t have tried this product ordinarily, but it came in the latest Superstars kit, and I wasn’t entirely sure what to do with it. I started using it in my hair at night to help moisturize it, and I really love it for that. It smooths out my hair and makes it softer, without making it look greasy or dirty. I can even go a day without washing after using it, which confirms the claim it is a “dry“ oil. My skin is very dry, and there isn’t one single moisturizer that fully works for me, but I decided to start using this on my face twice a day. AMAZING. I feel the difference in my skin immediately, the tightness is gone, my skin feels so soft. I have started turning my friends and my mom on to this product, everyone should have a bottle! Bonus - After applying it to your face or hair, just rub it in to your hands and up your arms! It is the only product I use where I don’t wash my hands afterwards!\n"
     ]
    }
   ],
   "source": [
    "for hit in elsatic_q4['hits']['hits']:\n",
    "    print(f\"Score: {hit['_score']}, '\\n' \\\n",
    "           product name: {hit['_source']['metadata']['product_name']} '\\n' \\\n",
    "           review: {hit['_source']['metadata']['review_full']}\")"
   ]
  },
  {
   "cell_type": "markdown",
   "metadata": {},
   "source": [
    "### Question 5: Sort positive reviews of lotions for oily skin by price descending."
   ]
  },
  {
   "cell_type": "markdown",
   "metadata": {},
   "source": [
    "For this one we will fetch all and sort\n",
    "\n",
    "Pinecone does not support this so we will have to fetch then sort\n",
    "Mongo was able to support it fine\n",
    "elastic loses information about vector scores when a sort parameter is applied. "
   ]
  },
  {
   "cell_type": "code",
   "execution_count": 34,
   "metadata": {},
   "outputs": [],
   "source": [
    "q5 = \"positive reviews of lotions for oily skin\"\n",
    "query_5 = embed_query(q5)"
   ]
  },
  {
   "cell_type": "markdown",
   "metadata": {},
   "source": [
    "#### Pinecone q1"
   ]
  },
  {
   "cell_type": "code",
   "execution_count": 35,
   "metadata": {},
   "outputs": [
    {
     "name": "stdout",
     "output_type": "stream",
     "text": [
      "Pinecone took 1.5250303745269775 seconds on natural language query 5\n"
     ]
    }
   ],
   "source": [
    "start_time = time.time()\n",
    "pine_q5 = index.query(query_5, top_k=5000, include_metadata=True)\n",
    "sorted_pine_q5 = sorted(pine_q5['matches'], key=lambda x: x['metadata']['price_usd'], reverse=True)\n",
    "end_time = time.time()\n",
    "print(f\"Pinecone took {end_time - start_time} seconds on natural language query 5\")"
   ]
  },
  {
   "cell_type": "code",
   "execution_count": 36,
   "metadata": {},
   "outputs": [
    {
     "name": "stdout",
     "output_type": "stream",
     "text": [
      "0.6 '\n",
      "'             The Concentrate Serum '\n",
      "'             blonde '\n",
      "'             425.0 '\n",
      "'             Love the scent It is really good product. I received two small samples . I love the scent of it and the light texture. It’s not greasy and feels amazing on my skin . My skin feels smooth and soft . I have dry skin especially during cold weather and I feel this product works perfect for my skin type .\n",
      "0.59 '\n",
      "'             The Concentrate Serum '\n",
      "'             brown '\n",
      "'             425.0 '\n",
      "'             Nice This is one of my favorite creams! So good and moisturizing! Such a good one! I recommend it to everyone who has normal dry skin, especially good during fall and winter. It makes my skin so smooth and healthy\n",
      "0.63 '\n",
      "'             Crème de la Mer Moisturizer '\n",
      "'             black '\n",
      "'             380.0 '\n",
      "'             Maybe it helps other ppl (who has very dry skin) a lot, but for me I think this cream is a little bit too heavy. For the skin type is not too dry neither too oily I love weightless stuff better.\n",
      "0.6 '\n",
      "'             Crème de la Mer Moisturizer '\n",
      "'             black '\n",
      "'             380.0 '\n",
      "'             I received this complimentary from la mer. I like the product for my dry skin. My skin stays moisturized and the cream doesn’t feel oily nor does it look too oily on my skin. It is expensive but a little goes a long way. Also have to remember to warm the cream between your fingers first before applying. Otherwise it doesn’t apply on as smoothly. It has a nice smell too. Just wished it was a little bit cheaper but will still use.\n",
      "0.6 '\n",
      "'             Crème de la Mer Moisturizer '\n",
      "'             brown '\n",
      "'             380.0 '\n",
      "'             unfortunately this is good This is amazing. Was hesitant because of the price but have zero regrets. I have combo/dry skin and this formula was perfect. Makes your face soft and supple. I did notice that the first few nights I used it, I got little bumps on my face. I was worried that I was reacting to it but I continued using it. The bumps cleared up quickly. I think it was just my skin getting used to the thicker texture of the cream as I was previously using Laneige Water Bank.\n"
     ]
    }
   ],
   "source": [
    "for result in sorted_pine_q5[:5]:\n",
    "    print(f\"{round(result['score'], 2)} '\\n' \\\n",
    "            {result['metadata']['product_name']} '\\n' \\\n",
    "            {result['metadata']['hair_color']} '\\n' \\\n",
    "            {result['metadata']['price_usd']} '\\n' \\\n",
    "            {result['metadata']['review_full']}\")"
   ]
  },
  {
   "cell_type": "markdown",
   "metadata": {},
   "source": [
    "#### Mongo q5"
   ]
  },
  {
   "cell_type": "code",
   "execution_count": 37,
   "metadata": {},
   "outputs": [
    {
     "name": "stdout",
     "output_type": "stream",
     "text": [
      "MongoDB took 0.718332052230835 seconds on natural language query 5\n"
     ]
    }
   ],
   "source": [
    "start_time = time.time()\n",
    "mongo_q5 = collection.aggregate([\n",
    "  {\"$vectorSearch\": {\n",
    "    \"queryVector\": query_5,\n",
    "    \"path\": \"values\",\n",
    "    \"numCandidates\": 5000,\n",
    "    \"limit\": 5000,\n",
    "    \"index\": \"sephora-index\",\n",
    "      }},\n",
    "    {\"$sort\": {\"metadata.price_usd\": -1}}\n",
    "])\n",
    "end_time = time.time()\n",
    "print(f\"MongoDB took {end_time - start_time} seconds on natural language query 5\")"
   ]
  },
  {
   "cell_type": "code",
   "execution_count": 38,
   "metadata": {},
   "outputs": [
    {
     "name": "stdout",
     "output_type": "stream",
     "text": [
      "The Concentrate Serum '\n",
      "'             blonde '\n",
      "'             425.0 '\n",
      "'             Love the scent It is really good product. I received two small samples . I love the scent of it and the light texture. It’s not greasy and feels amazing on my skin . My skin feels smooth and soft . I have dry skin especially during cold weather and I feel this product works perfect for my skin type .\n",
      "The Concentrate Serum '\n",
      "'             brown '\n",
      "'             425.0 '\n",
      "'             Nice This is one of my favorite creams! So good and moisturizing! Such a good one! I recommend it to everyone who has normal dry skin, especially good during fall and winter. It makes my skin so smooth and healthy\n",
      "Crème de la Mer Moisturizer '\n",
      "'             black '\n",
      "'             380.0 '\n",
      "'             Maybe it helps other ppl (who has very dry skin) a lot, but for me I think this cream is a little bit too heavy. For the skin type is not too dry neither too oily I love weightless stuff better.\n",
      "Crème de la Mer Moisturizer '\n",
      "'             black '\n",
      "'             380.0 '\n",
      "'             I received this complimentary from la mer. I like the product for my dry skin. My skin stays moisturized and the cream doesn’t feel oily nor does it look too oily on my skin. It is expensive but a little goes a long way. Also have to remember to warm the cream between your fingers first before applying. Otherwise it doesn’t apply on as smoothly. It has a nice smell too. Just wished it was a little bit cheaper but will still use.\n",
      "Crème de la Mer Moisturizer '\n",
      "'             brown '\n",
      "'             380.0 '\n",
      "'             unfortunately this is good This is amazing. Was hesitant because of the price but have zero regrets. I have combo/dry skin and this formula was perfect. Makes your face soft and supple. I did notice that the first few nights I used it, I got little bumps on my face. I was worried that I was reacting to it but I continued using it. The bumps cleared up quickly. I think it was just my skin getting used to the thicker texture of the cream as I was previously using Laneige Water Bank.\n"
     ]
    }
   ],
   "source": [
    "for i, result in enumerate(mongo_q5):\n",
    "    if i >= 5:\n",
    "        break\n",
    "    print(f\"{result['metadata']['product_name']} '\\n' \\\n",
    "            {result['metadata']['hair_color']} '\\n' \\\n",
    "            {result['metadata']['price_usd']} '\\n' \\\n",
    "            {result['metadata']['review_full']}\")"
   ]
  },
  {
   "cell_type": "markdown",
   "metadata": {},
   "source": [
    "#### Elastic q5"
   ]
  },
  {
   "cell_type": "code",
   "execution_count": 39,
   "metadata": {},
   "outputs": [
    {
     "name": "stdout",
     "output_type": "stream",
     "text": [
      "Elastic took 2.470366954803467 seconds on natural language query 5\n"
     ]
    }
   ],
   "source": [
    "body_q5 = {\n",
    "    \"query\": {\n",
    "        \"script_score\": {\n",
    "            \"query\": {\"match_all\": {}},\n",
    "            \"script\": {\n",
    "                \"source\": \"cosineSimilarity(params.query_vector, 'values') + 1.0\",\n",
    "                \"params\": {\"query_vector\": query_5}\n",
    "            }\n",
    "        }\n",
    "    },\n",
    "    \"size\": 5000\n",
    "}\n",
    "start_time = time.time()\n",
    "elastic_q5 = elastic_client.search(index=\"sephora-data\", body=body_q5)\n",
    "sorted_hits = sorted(elastic_q5['hits']['hits'], key=lambda x: x['_source']['metadata']['price_usd'], reverse=True)\n",
    "end_time = time.time()\n",
    "print(f\"Elastic took {end_time - start_time} seconds on natural language query 5\")\n"
   ]
  },
  {
   "cell_type": "code",
   "execution_count": 40,
   "metadata": {},
   "outputs": [
    {
     "name": "stdout",
     "output_type": "stream",
     "text": [
      "Score: 1.5966933, '\n",
      "'            product name: The Concentrate Serum '\n",
      "'            price: 425.0 '\n",
      "'            review: Love the scent It is really good product. I received two small samples . I love the scent of it and the light texture. It’s not greasy and feels amazing on my skin . My skin feels smooth and soft . I have dry skin especially during cold weather and I feel this product works perfect for my skin type .\n",
      "Score: 1.5862967, '\n",
      "'            product name: The Concentrate Serum '\n",
      "'            price: 425.0 '\n",
      "'            review: Nice This is one of my favorite creams! So good and moisturizing! Such a good one! I recommend it to everyone who has normal dry skin, especially good during fall and winter. It makes my skin so smooth and healthy\n",
      "Score: 1.6294103, '\n",
      "'            product name: Crème de la Mer Moisturizer '\n",
      "'            price: 380.0 '\n",
      "'            review: Maybe it helps other ppl (who has very dry skin) a lot, but for me I think this cream is a little bit too heavy. For the skin type is not too dry neither too oily I love weightless stuff better.\n",
      "Score: 1.6014178, '\n",
      "'            product name: Crème de la Mer Moisturizer '\n",
      "'            price: 380.0 '\n",
      "'            review: I received this complimentary from la mer. I like the product for my dry skin. My skin stays moisturized and the cream doesn’t feel oily nor does it look too oily on my skin. It is expensive but a little goes a long way. Also have to remember to warm the cream between your fingers first before applying. Otherwise it doesn’t apply on as smoothly. It has a nice smell too. Just wished it was a little bit cheaper but will still use.\n",
      "Score: 1.6008081, '\n",
      "'            product name: Crème de la Mer Moisturizer '\n",
      "'            price: 380.0 '\n",
      "'            review: unfortunately this is good This is amazing. Was hesitant because of the price but have zero regrets. I have combo/dry skin and this formula was perfect. Makes your face soft and supple. I did notice that the first few nights I used it, I got little bumps on my face. I was worried that I was reacting to it but I continued using it. The bumps cleared up quickly. I think it was just my skin getting used to the thicker texture of the cream as I was previously using Laneige Water Bank.\n"
     ]
    }
   ],
   "source": [
    "for hit in sorted_hits[:5]:\n",
    "    print(f\"Score: {hit['_score']}, '\\n' \\\n",
    "           product name: {hit['_source']['metadata']['product_name']} '\\n' \\\n",
    "           price: {hit['_source']['metadata']['price_usd']} '\\n' \\\n",
    "           review: {hit['_source']['metadata']['review_full']}\")"
   ]
  },
  {
   "cell_type": "markdown",
   "metadata": {},
   "source": [
    "### Update times"
   ]
  },
  {
   "cell_type": "markdown",
   "metadata": {},
   "source": [
    "I'm realizing that we have all of CRUD except update\n",
    "- let's create 5 new vectors and update the first 5 ids"
   ]
  },
  {
   "cell_type": "code",
   "execution_count": 41,
   "metadata": {},
   "outputs": [
    {
     "data": {
      "text/plain": [
       "-0.10167992860078812"
      ]
     },
     "execution_count": 41,
     "metadata": {},
     "output_type": "execute_result"
    }
   ],
   "source": [
    "new_reviews = [\n",
    "    \"Wow, what an amazing product. Y'all have got to try this out. I use this with my favorite moisturizer and it works like a charm.\",\n",
    "    \"DO NOT get this. Does not work for sensitive skin. I was feeling the burn.\",\n",
    "    \"I would definitely recommend this for someone with combination oily skin. It keeps my skin less oily for longer throughout the day.\",\n",
    "    \"This is over-priced for the amount you get. Will probably avoid in the future.\",\n",
    "    \"They've changed their formula recently. I don't like it as much.\"\n",
    "]\n",
    "\n",
    "new_vectors = [embed_query(r) for r in new_reviews]\n",
    "new_vectors[0][0]"
   ]
  },
  {
   "cell_type": "markdown",
   "metadata": {},
   "source": [
    "#### Pinecone update"
   ]
  },
  {
   "cell_type": "code",
   "execution_count": 45,
   "metadata": {},
   "outputs": [
    {
     "name": "stdout",
     "output_type": "stream",
     "text": [
      "Update operation took 0.4371213912963867 seconds\n"
     ]
    }
   ],
   "source": [
    "start_time = time.time()\n",
    "for i, vector in enumerate(new_vectors):\n",
    "    index.update(\n",
    "    id=str(i),\n",
    "    values=vector,\n",
    "    set_metadata={'eye_color': 'hazel'}\n",
    "    )\n",
    "end_time = time.time()\n",
    "print(f\"Update operation took {end_time - start_time} seconds\")"
   ]
  },
  {
   "cell_type": "markdown",
   "metadata": {},
   "source": [
    "#### Mongo Update"
   ]
  },
  {
   "cell_type": "code",
   "execution_count": 46,
   "metadata": {},
   "outputs": [
    {
     "name": "stdout",
     "output_type": "stream",
     "text": [
      "Update operation took 5.134519338607788 seconds\n"
     ]
    }
   ],
   "source": [
    "start_time = time.time()\n",
    "for i, vector in enumerate(new_vectors):\n",
    "    collection.update_one({\"id\": str(i)}, {\"$set\": {\"values\": vector, \"metadata.eye_color\": \"hazel\"}})\n",
    "    time.sleep(1)\n",
    "end_time = time.time()\n",
    "print(f\"Update operation took {end_time - start_time} seconds\")"
   ]
  },
  {
   "cell_type": "markdown",
   "metadata": {},
   "source": [
    "#### Elastic Update"
   ]
  },
  {
   "cell_type": "code",
   "execution_count": 47,
   "metadata": {},
   "outputs": [
    {
     "name": "stdout",
     "output_type": "stream",
     "text": [
      "Update operation took 0.16942667961120605 seconds\n"
     ]
    }
   ],
   "source": [
    "start_time = time.time()\n",
    "for i, vector in enumerate(new_vectors):\n",
    "    elastic_client.update(\n",
    "        index=\"sephora-data\", \n",
    "        id=str(i), \n",
    "        body={\"doc\": {\"values\": vector, \"metadata.eye_color\": \"hazel\"}}\n",
    "        )\n",
    "end_time = time.time()\n",
    "print(f\"Update operation took {end_time - start_time} seconds\")"
   ]
  }
 ],
 "metadata": {
  "kernelspec": {
   "display_name": "dbenv",
   "language": "python",
   "name": "python3"
  },
  "language_info": {
   "codemirror_mode": {
    "name": "ipython",
    "version": 3
   },
   "file_extension": ".py",
   "mimetype": "text/x-python",
   "name": "python",
   "nbconvert_exporter": "python",
   "pygments_lexer": "ipython3",
   "version": "3.11.6"
  }
 },
 "nbformat": 4,
 "nbformat_minor": 2
}
