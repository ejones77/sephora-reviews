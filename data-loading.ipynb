{
 "cells": [
  {
   "cell_type": "code",
   "execution_count": null,
   "metadata": {},
   "outputs": [
    {
     "name": "stderr",
     "output_type": "stream",
     "text": [
      "c:\\Users\\e77jo\\Documents\\420-DBM\\dbenv\\Lib\\site-packages\\pinecone\\index.py:4: TqdmWarning: IProgress not found. Please update jupyter and ipywidgets. See https://ipywidgets.readthedocs.io/en/stable/user_install.html\n",
      "  from tqdm.autonotebook import tqdm\n"
     ]
    }
   ],
   "source": [
    "import pickle\n",
    "import time\n",
    "import pinecone\n",
    "from sentence_transformers import SentenceTransformer\n",
    "import torch\n",
    "import pandas as pd\n",
    "import itertools\n",
    "from pymongo.mongo_client import MongoClient\n",
    "import urllib\n",
    "from elasticsearch import Elasticsearch, RequestsHttpConnection\n",
    "from elasticsearch.helpers import bulk\n",
    "import os\n",
    "from dotenv import load_dotenv\n",
    "load_dotenv()"
   ]
  },
  {
   "cell_type": "markdown",
   "metadata": {},
   "source": [
    "## Data Loading"
   ]
  },
  {
   "cell_type": "code",
   "execution_count": 2,
   "metadata": {},
   "outputs": [],
   "source": [
    "with open('sephora-index.pkl', 'rb') as f:\n",
    "    dataset = pickle.load(f)"
   ]
  },
  {
   "cell_type": "code",
   "execution_count": 3,
   "metadata": {},
   "outputs": [
    {
     "name": "stdout",
     "output_type": "stream",
     "text": [
      "The dataset has 384 dimensions\n"
     ]
    }
   ],
   "source": [
    "print(f\"The dataset has {len(dataset[0]['values'])} dimensions\")"
   ]
  },
  {
   "cell_type": "code",
   "execution_count": 4,
   "metadata": {},
   "outputs": [
    {
     "data": {
      "text/plain": [
       "{'id': '0',\n",
       " 'values': [0.0030438287649303675,\n",
       "  0.004472009371966124,\n",
       "  0.07097481191158295,\n",
       "  0.08143029361963272,\n",
       "  0.06849981844425201,\n",
       "  -0.050113920122385025,\n",
       "  0.053455207496881485,\n",
       "  0.05649996176362038,\n",
       "  -0.059897530823946,\n",
       "  -0.07594893872737885,\n",
       "  -0.07218535244464874,\n",
       "  -0.05941902473568916,\n",
       "  -0.04102000966668129,\n",
       "  0.011415235698223114,\n",
       "  -0.032470304518938065,\n",
       "  -0.001875639776699245,\n",
       "  0.00520893931388855,\n",
       "  0.0221845805644989,\n",
       "  0.013776568695902824,\n",
       "  -0.062185246497392654,\n",
       "  -2.2982243535807356e-05,\n",
       "  0.0024249497801065445,\n",
       "  0.01610706001520157,\n",
       "  -0.026995105668902397,\n",
       "  0.0351138599216938,\n",
       "  -0.04917909950017929,\n",
       "  0.04377542808651924,\n",
       "  -0.044541969895362854,\n",
       "  -0.00423040334135294,\n",
       "  -0.0278280321508646,\n",
       "  -0.014061996713280678,\n",
       "  0.03423372656106949,\n",
       "  -0.11560318619012833,\n",
       "  0.00688050827011466,\n",
       "  -0.03010465018451214,\n",
       "  -0.08874853700399399,\n",
       "  -0.07482282817363739,\n",
       "  0.04685718193650246,\n",
       "  -0.025644252076745033,\n",
       "  0.03786584362387657,\n",
       "  0.07492639869451523,\n",
       "  0.027635395526885986,\n",
       "  -0.005367481615394354,\n",
       "  -0.04773174971342087,\n",
       "  0.08735913038253784,\n",
       "  0.04308953881263733,\n",
       "  0.02492963708937168,\n",
       "  -0.006474218796938658,\n",
       "  -0.0455806702375412,\n",
       "  -0.018411910161376,\n",
       "  0.00733334943652153,\n",
       "  -0.05351667106151581,\n",
       "  -0.004664241801947355,\n",
       "  0.038140665739774704,\n",
       "  -0.0035343817435204983,\n",
       "  -0.02208878844976425,\n",
       "  -0.1487301141023636,\n",
       "  -0.006175929214805365,\n",
       "  -0.025057123973965645,\n",
       "  0.023727070540189743,\n",
       "  -0.069015271961689,\n",
       "  -0.030182963237166405,\n",
       "  0.032043956220149994,\n",
       "  -0.005499460734426975,\n",
       "  -0.006362695712596178,\n",
       "  -0.10924099385738373,\n",
       "  -0.04400405287742615,\n",
       "  0.008317209780216217,\n",
       "  -0.00440519442781806,\n",
       "  0.044488128274679184,\n",
       "  -0.0548371858894825,\n",
       "  -0.04155179113149643,\n",
       "  0.0021311764139682055,\n",
       "  0.004074974451214075,\n",
       "  -0.052276115864515305,\n",
       "  0.009824668057262897,\n",
       "  -0.040479626506567,\n",
       "  -0.01164392102509737,\n",
       "  0.007203471381217241,\n",
       "  -0.04111074283719063,\n",
       "  -0.024312201887369156,\n",
       "  0.03495609387755394,\n",
       "  0.03100448101758957,\n",
       "  0.061191245913505554,\n",
       "  0.11468582600355148,\n",
       "  0.08775460720062256,\n",
       "  0.019786536693572998,\n",
       "  -0.09906356781721115,\n",
       "  0.0008346193353645504,\n",
       "  0.01971031166613102,\n",
       "  0.0720030814409256,\n",
       "  0.08792007714509964,\n",
       "  -0.0019218692323192954,\n",
       "  0.025178637355566025,\n",
       "  0.02370256930589676,\n",
       "  -0.04688829556107521,\n",
       "  0.034837111830711365,\n",
       "  -0.0001816886942833662,\n",
       "  -0.04159954935312271,\n",
       "  -0.026027116924524307,\n",
       "  -0.08691315352916718,\n",
       "  -0.01699361391365528,\n",
       "  -0.039463505148887634,\n",
       "  -0.11545325815677643,\n",
       "  0.0025027613155543804,\n",
       "  -0.007373032160103321,\n",
       "  0.08502887934446335,\n",
       "  0.06748966127634048,\n",
       "  0.07802718877792358,\n",
       "  0.022767141461372375,\n",
       "  0.020915623754262924,\n",
       "  0.044938020408153534,\n",
       "  -0.046444620937108994,\n",
       "  -0.07946031540632248,\n",
       "  -0.005142908077687025,\n",
       "  0.009557108394801617,\n",
       "  0.007670240476727486,\n",
       "  -0.03145529329776764,\n",
       "  -0.010144495405256748,\n",
       "  0.0926043838262558,\n",
       "  -0.03487743064761162,\n",
       "  0.0032138614915311337,\n",
       "  -0.097324438393116,\n",
       "  -0.042717255651950836,\n",
       "  -0.10169714689254761,\n",
       "  0.033922433853149414,\n",
       "  -0.005828895140439272,\n",
       "  -1.5857509305657672e-31,\n",
       "  -0.04442800581455231,\n",
       "  0.0627109631896019,\n",
       "  -0.00970455538481474,\n",
       "  0.060283761471509933,\n",
       "  0.008630091324448586,\n",
       "  0.026528071612119675,\n",
       "  -0.04476938396692276,\n",
       "  -0.04024612903594971,\n",
       "  0.023970849812030792,\n",
       "  0.06021725758910179,\n",
       "  0.02753329835832119,\n",
       "  -0.03176289051771164,\n",
       "  0.01360812596976757,\n",
       "  0.13809990882873535,\n",
       "  -0.002850554883480072,\n",
       "  -0.02657577395439148,\n",
       "  -0.004603596404194832,\n",
       "  0.04253128170967102,\n",
       "  -0.05057020112872124,\n",
       "  -0.06909886747598648,\n",
       "  0.01572016440331936,\n",
       "  0.04179496318101883,\n",
       "  -0.08187850564718246,\n",
       "  -0.029262930154800415,\n",
       "  -0.08510322123765945,\n",
       "  0.014168959110975266,\n",
       "  0.008672456257045269,\n",
       "  -0.10732913762331009,\n",
       "  -0.05568914860486984,\n",
       "  0.015109154395759106,\n",
       "  0.0043340991251170635,\n",
       "  0.022251153364777565,\n",
       "  -0.03410542383790016,\n",
       "  -0.02610090561211109,\n",
       "  -0.04323010519146919,\n",
       "  0.07042694836854935,\n",
       "  0.006397232413291931,\n",
       "  -0.03111657127737999,\n",
       "  -0.058865852653980255,\n",
       "  -0.0576384998857975,\n",
       "  -0.050626665353775024,\n",
       "  0.010098968632519245,\n",
       "  0.005256010219454765,\n",
       "  0.023370007053017616,\n",
       "  -0.06721258163452148,\n",
       "  0.027082500979304314,\n",
       "  -0.02560139074921608,\n",
       "  0.017858823761343956,\n",
       "  0.10695698857307434,\n",
       "  -0.008242510259151459,\n",
       "  0.044140636920928955,\n",
       "  0.024368392303586006,\n",
       "  0.04850494861602783,\n",
       "  0.08081313222646713,\n",
       "  0.042522087693214417,\n",
       "  0.0014318614266812801,\n",
       "  0.018323779106140137,\n",
       "  -0.074003666639328,\n",
       "  0.09669263660907745,\n",
       "  -0.022547060623764992,\n",
       "  -0.0064673344604671,\n",
       "  -0.008817466907203197,\n",
       "  -0.08688327670097351,\n",
       "  0.04232967272400856,\n",
       "  0.009638281539082527,\n",
       "  0.061113711446523666,\n",
       "  -0.001736134523525834,\n",
       "  0.009619110263884068,\n",
       "  -0.037731997668743134,\n",
       "  -0.019702378660440445,\n",
       "  0.0030618340242654085,\n",
       "  0.06358098238706589,\n",
       "  0.07414478808641434,\n",
       "  -0.06806016713380814,\n",
       "  0.007275980897247791,\n",
       "  -0.0491543784737587,\n",
       "  0.06340642273426056,\n",
       "  0.027574988082051277,\n",
       "  -0.04103948548436165,\n",
       "  0.009129565209150314,\n",
       "  0.056742243468761444,\n",
       "  -0.04057784378528595,\n",
       "  -0.05708897486329079,\n",
       "  -0.0817985013127327,\n",
       "  0.059354450553655624,\n",
       "  0.00521776033565402,\n",
       "  -0.00791044533252716,\n",
       "  0.07018125057220459,\n",
       "  -0.012986188754439354,\n",
       "  -0.00746601028367877,\n",
       "  0.03630716726183891,\n",
       "  -0.04952966421842575,\n",
       "  0.09575576335191727,\n",
       "  -0.0067501673474907875,\n",
       "  -0.10355265438556671,\n",
       "  -4.511801519109305e-33,\n",
       "  -0.013701642863452435,\n",
       "  0.006578383501619101,\n",
       "  0.1292939931154251,\n",
       "  0.05248928442597389,\n",
       "  0.018407072871923447,\n",
       "  0.02568945847451687,\n",
       "  -0.011045333929359913,\n",
       "  0.033497054129838943,\n",
       "  0.008807205595076084,\n",
       "  -0.03024083934724331,\n",
       "  0.03565804660320282,\n",
       "  0.013222302310168743,\n",
       "  0.032311394810676575,\n",
       "  0.02646804042160511,\n",
       "  0.02897067926824093,\n",
       "  -0.00613410584628582,\n",
       "  0.0010773424291983247,\n",
       "  -0.006883126683533192,\n",
       "  -0.006139644421637058,\n",
       "  -0.08531956374645233,\n",
       "  -0.04970211163163185,\n",
       "  0.07126011699438095,\n",
       "  0.006292508449405432,\n",
       "  0.057197242975234985,\n",
       "  -0.07551174610853195,\n",
       "  0.019574075937271118,\n",
       "  -0.0034096601884812117,\n",
       "  -0.05719781666994095,\n",
       "  0.01778310537338257,\n",
       "  0.020200122147798538,\n",
       "  0.03779326379299164,\n",
       "  -0.00486030476167798,\n",
       "  -0.12432797998189926,\n",
       "  0.010942994616925716,\n",
       "  -0.024287771433591843,\n",
       "  -0.06277115643024445,\n",
       "  -0.024785110726952553,\n",
       "  0.048712365329265594,\n",
       "  -0.031113646924495697,\n",
       "  -0.05128940939903259,\n",
       "  0.025459961965680122,\n",
       "  -0.10108134895563126,\n",
       "  0.02130606397986412,\n",
       "  0.03619512543082237,\n",
       "  -0.002374437404796481,\n",
       "  0.06367527693510056,\n",
       "  -0.014988359995186329,\n",
       "  -0.04000837355852127,\n",
       "  0.0014675079146400094,\n",
       "  0.09452581405639648,\n",
       "  0.063606396317482,\n",
       "  -0.05433717370033264,\n",
       "  -0.07708513736724854,\n",
       "  -0.040278974920511246,\n",
       "  0.0046648066490888596,\n",
       "  -0.021930012851953506,\n",
       "  0.0533282645046711,\n",
       "  -0.04442601650953293,\n",
       "  -0.05173353850841522,\n",
       "  -0.008530888706445694,\n",
       "  0.025448061525821686,\n",
       "  0.0354413241147995,\n",
       "  0.04702729359269142,\n",
       "  0.07745154201984406,\n",
       "  -0.029343383386731148,\n",
       "  -0.009413083083927631,\n",
       "  -0.03351302444934845,\n",
       "  0.11371239274740219,\n",
       "  0.09270050376653671,\n",
       "  -0.004772466607391834,\n",
       "  -0.026806499809026718,\n",
       "  0.12815308570861816,\n",
       "  -0.07611475139856339,\n",
       "  -0.0152675099670887,\n",
       "  0.0005430096643976867,\n",
       "  -0.011450037360191345,\n",
       "  0.04487834498286247,\n",
       "  -0.015080329962074757,\n",
       "  -0.0882984846830368,\n",
       "  0.06605636328458786,\n",
       "  -0.02920246310532093,\n",
       "  0.02944059669971466,\n",
       "  -0.07885203510522842,\n",
       "  0.028731515631079674,\n",
       "  0.08806606382131577,\n",
       "  -0.01207109447568655,\n",
       "  -0.05024426057934761,\n",
       "  0.04529702290892601,\n",
       "  -0.026698904111981392,\n",
       "  -0.01633089780807495,\n",
       "  0.015742966905236244,\n",
       "  -0.030902288854122162,\n",
       "  -0.0037873960100114346,\n",
       "  -0.030378391966223717,\n",
       "  0.0029921126551926136,\n",
       "  -3.372934102890701e-33,\n",
       "  -0.06390651315450668,\n",
       "  -0.023485366255044937,\n",
       "  0.07723947614431381,\n",
       "  0.014897515997290611,\n",
       "  -0.09149252623319626,\n",
       "  -0.014068538323044777,\n",
       "  0.021258961409330368,\n",
       "  0.006240028887987137,\n",
       "  -0.04104243963956833,\n",
       "  -0.05970616266131401,\n",
       "  -0.027032552286982536,\n",
       "  0.10321706533432007,\n",
       "  0.08446517586708069,\n",
       "  0.01109944935888052,\n",
       "  0.05142705515027046,\n",
       "  -0.10076288878917694,\n",
       "  0.04359494894742966,\n",
       "  0.03321218118071556,\n",
       "  0.022247152402997017,\n",
       "  -0.10589428246021271,\n",
       "  -0.07044655084609985,\n",
       "  -0.0299062542617321,\n",
       "  0.054689135402441025,\n",
       "  0.024955950677394867,\n",
       "  -0.01682283729314804,\n",
       "  0.02548431046307087,\n",
       "  0.03958700969815254,\n",
       "  0.039815738797187805,\n",
       "  -0.10178115963935852,\n",
       "  -0.05067706108093262,\n",
       "  0.05227123945951462,\n",
       "  0.016209764406085014,\n",
       "  0.008657223545014858,\n",
       "  0.1172892153263092,\n",
       "  0.03923485055565834,\n",
       "  -0.017382165417075157,\n",
       "  0.07234512269496918,\n",
       "  0.013065456412732601,\n",
       "  0.007348306011408567,\n",
       "  0.023837460204958916,\n",
       "  -0.0708136335015297,\n",
       "  -0.0693994089961052,\n",
       "  0.15118952095508575,\n",
       "  -0.014592844992876053,\n",
       "  -0.07126535475254059,\n",
       "  -0.07982712984085083,\n",
       "  0.05118975043296814,\n",
       "  -0.06494279950857162,\n",
       "  0.028624286875128746,\n",
       "  0.09887097030878067,\n",
       "  0.02254326455295086,\n",
       "  -0.0031153452582657337,\n",
       "  0.015801362693309784,\n",
       "  0.027695775032043457,\n",
       "  0.04081595689058304,\n",
       "  -0.08542970567941666,\n",
       "  0.017773237079381943,\n",
       "  0.026377275586128235,\n",
       "  0.04163634032011032,\n",
       "  -0.04507780447602272,\n",
       "  0.08703086525201797,\n",
       "  -0.025885773822665215,\n",
       "  0.01899131014943123,\n",
       "  0.0917288288474083],\n",
       " 'metadata': {'rating': 5.0,\n",
       "  'skin_tone': 'light',\n",
       "  'eye_color': 'Unknown',\n",
       "  'skin_type': 'oily',\n",
       "  'hair_color': 'Unknown',\n",
       "  'product_name': 'Goodbye Acne  Max Complexion Correction Pads',\n",
       "  'brand_name': 'Peter Thomas Roth',\n",
       "  'price_usd': 48.0,\n",
       "  'review_full': 'love the burn It burns, but it works. My pores looks way smaller when I use this, and I don’t get as many clogged pores that turn into zits!!!'}}"
      ]
     },
     "execution_count": 4,
     "metadata": {},
     "output_type": "execute_result"
    }
   ],
   "source": [
    "dataset[0]"
   ]
  },
  {
   "cell_type": "code",
   "execution_count": 5,
   "metadata": {},
   "outputs": [
    {
     "data": {
      "text/html": [
       "<div>\n",
       "<style scoped>\n",
       "    .dataframe tbody tr th:only-of-type {\n",
       "        vertical-align: middle;\n",
       "    }\n",
       "\n",
       "    .dataframe tbody tr th {\n",
       "        vertical-align: top;\n",
       "    }\n",
       "\n",
       "    .dataframe thead th {\n",
       "        text-align: right;\n",
       "    }\n",
       "</style>\n",
       "<table border=\"1\" class=\"dataframe\">\n",
       "  <thead>\n",
       "    <tr style=\"text-align: right;\">\n",
       "      <th></th>\n",
       "      <th>id</th>\n",
       "      <th>values</th>\n",
       "      <th>metadata</th>\n",
       "    </tr>\n",
       "  </thead>\n",
       "  <tbody>\n",
       "    <tr>\n",
       "      <th>0</th>\n",
       "      <td>0</td>\n",
       "      <td>[0.0030438287649303675, 0.004472009371966124, ...</td>\n",
       "      <td>{'rating': 5.0, 'skin_tone': 'light', 'eye_col...</td>\n",
       "    </tr>\n",
       "    <tr>\n",
       "      <th>1</th>\n",
       "      <td>1</td>\n",
       "      <td>[-0.03229909762740135, 0.03269119933247566, 0....</td>\n",
       "      <td>{'rating': 4.0, 'skin_tone': 'lightMedium', 'e...</td>\n",
       "    </tr>\n",
       "    <tr>\n",
       "      <th>2</th>\n",
       "      <td>2</td>\n",
       "      <td>[-0.10494845360517502, -0.0864892229437828, 0....</td>\n",
       "      <td>{'rating': 5.0, 'skin_tone': 'Unknown', 'eye_c...</td>\n",
       "    </tr>\n",
       "    <tr>\n",
       "      <th>3</th>\n",
       "      <td>3</td>\n",
       "      <td>[-0.0588916577398777, 0.05740262195467949, 0.0...</td>\n",
       "      <td>{'rating': 5.0, 'skin_tone': 'Unknown', 'eye_c...</td>\n",
       "    </tr>\n",
       "    <tr>\n",
       "      <th>4</th>\n",
       "      <td>4</td>\n",
       "      <td>[-0.07242435216903687, 0.05376826226711273, 0....</td>\n",
       "      <td>{'rating': 5.0, 'skin_tone': 'Unknown', 'eye_c...</td>\n",
       "    </tr>\n",
       "  </tbody>\n",
       "</table>\n",
       "</div>"
      ],
      "text/plain": [
       "  id                                             values  \\\n",
       "0  0  [0.0030438287649303675, 0.004472009371966124, ...   \n",
       "1  1  [-0.03229909762740135, 0.03269119933247566, 0....   \n",
       "2  2  [-0.10494845360517502, -0.0864892229437828, 0....   \n",
       "3  3  [-0.0588916577398777, 0.05740262195467949, 0.0...   \n",
       "4  4  [-0.07242435216903687, 0.05376826226711273, 0....   \n",
       "\n",
       "                                            metadata  \n",
       "0  {'rating': 5.0, 'skin_tone': 'light', 'eye_col...  \n",
       "1  {'rating': 4.0, 'skin_tone': 'lightMedium', 'e...  \n",
       "2  {'rating': 5.0, 'skin_tone': 'Unknown', 'eye_c...  \n",
       "3  {'rating': 5.0, 'skin_tone': 'Unknown', 'eye_c...  \n",
       "4  {'rating': 5.0, 'skin_tone': 'Unknown', 'eye_c...  "
      ]
     },
     "execution_count": 5,
     "metadata": {},
     "output_type": "execute_result"
    }
   ],
   "source": [
    "df = pd.DataFrame(dataset)\n",
    "df.head()"
   ]
  },
  {
   "cell_type": "code",
   "execution_count": 6,
   "metadata": {},
   "outputs": [
    {
     "name": "stdout",
     "output_type": "stream",
     "text": [
      "<class 'str'>\n",
      "<class 'float'>\n"
     ]
    }
   ],
   "source": [
    "#need to check that id is str and embeddings have floats\n",
    "print(type(df['id'][0]))\n",
    "print(type(df['values'][0][0]))"
   ]
  },
  {
   "cell_type": "markdown",
   "metadata": {},
   "source": [
    "## Pinecone set up"
   ]
  },
  {
   "cell_type": "code",
   "execution_count": null,
   "metadata": {},
   "outputs": [],
   "source": [
    "PINECONE_API_KEY = os.getenv(\"PINECONE_API_KEY\")\n",
    "#using the starter here that's limited to 100k\n",
    "PINECONE_ENV = os.getenv(\"PINECONE_ENV\")\n",
    "\n",
    "#Pinecone has documentation for a semantic search example\n",
    "#That's here https://colab.research.google.com/github/pinecone-io/examples/blob/master/docs/semantic-search.ipynb#scrollTo=YUd1VGg6i108\n",
    "#I'm pulling the initialization code from there\n",
    "pinecone.init(\n",
    "    api_key=PINECONE_API_KEY,\n",
    "    environment=PINECONE_ENV\n",
    ")"
   ]
  },
  {
   "cell_type": "code",
   "execution_count": 8,
   "metadata": {},
   "outputs": [
    {
     "name": "stdout",
     "output_type": "stream",
     "text": [
      "Delete operation took 15.468894004821777 seconds\n"
     ]
    }
   ],
   "source": [
    "index_name = \"sephora-data\"\n",
    "\n",
    "#going to delete index first\n",
    "start_time = time.time()\n",
    "pinecone.delete_index(index_name)\n",
    "end_time = time.time()\n",
    "elapsed_time = end_time - start_time\n",
    "print(f\"Delete operation took {elapsed_time} seconds\")\n",
    "# only create index if it doesn't exist\n",
    "if index_name not in pinecone.list_indexes():\n",
    "    # get the dimension of the embeddings from the first item in the dataset\n",
    "    dimension = len(dataset[0]['values'])\n",
    "    pinecone.create_index(\n",
    "        name=index_name,\n",
    "        dimension=dimension,\n",
    "        metric='cosine'\n",
    "    ) \n",
    "    # wait a moment for the index to be fully initialized\n",
    "    time.sleep(1)\n",
    "\n",
    "# now connect to the index\n",
    "index = pinecone.GRPCIndex(index_name)"
   ]
  },
  {
   "cell_type": "code",
   "execution_count": 9,
   "metadata": {},
   "outputs": [],
   "source": [
    "def chunks(iterable, batch_size=100):\n",
    "    it = iter(iterable)\n",
    "    chunk = tuple(itertools.islice(it, batch_size))\n",
    "    while chunk:\n",
    "        yield chunk\n",
    "        chunk = tuple(itertools.islice(it, batch_size))"
   ]
  },
  {
   "cell_type": "code",
   "execution_count": 10,
   "metadata": {},
   "outputs": [
    {
     "name": "stdout",
     "output_type": "stream",
     "text": [
      "Create operation took 207.00600266456604 seconds\n"
     ]
    }
   ],
   "source": [
    "#going to time this specific operation for upserting\n",
    "start_time = time.time()\n",
    "for batch in chunks([(str(t), v, m) for t, v, m in zip(df['id'], df['values'], df['metadata'])]):\n",
    "    index.upsert(vectors=batch)\n",
    "end_time = time.time()\n",
    "elapsed_time = end_time - start_time\n",
    "print(f\"Create operation took {elapsed_time} seconds\")"
   ]
  },
  {
   "cell_type": "code",
   "execution_count": 11,
   "metadata": {},
   "outputs": [
    {
     "data": {
      "text/plain": [
       "{'dimension': 384,\n",
       " 'index_fullness': 0.874,\n",
       " 'namespaces': {'': {'vector_count': 87400}},\n",
       " 'total_vector_count': 87400}"
      ]
     },
     "execution_count": 11,
     "metadata": {},
     "output_type": "execute_result"
    }
   ],
   "source": [
    "index.describe_index_stats()"
   ]
  },
  {
   "cell_type": "code",
   "execution_count": 12,
   "metadata": {},
   "outputs": [
    {
     "name": "stdout",
     "output_type": "stream",
     "text": [
      "0.56: Hyaluronic Acid 2% + B5 Hydrating Serum '\n",
      "' Perfect cheap HA. Pro tip: put some drops in the ends of your hair before your hair dries. Thank me later\n",
      "0.54: Pure Argan Milk Intensive Hydrating Treatment '\n",
      "' Silky I’ve been in love with Josie’s products from the first time I’ve used them and this is another great product in my opinion. I wish it was a little less pricey as you are to use the Argan Oil after applying the Milk so those products together can get expensive. I started with a sample and my face glowed and I have now purchased the full size.\n",
      "0.53: Ultra Repair Cream Intense Hydration '\n",
      "' Best on the market This is the best!!! Soothing, moisturizing, even on sensitive skin. A must buy..\n",
      "0.52: 100 percent Pure Argan Oil '\n",
      "' Love this for my hair I use a few drops of this oil on my hair every morning prior to drying and it has helped keep it shiny, smooth and soft. I am a brunette who colors my hair about every 5-6 weeks and my hair was getting frizzy and dry. I tried moroccan oil but didn’t care for the smell -This product allowed me to pull out the primary ingredient and its really made a noticeable change in my hair over the last three months. I have shoulder length hair and this size lasted me a little over 3 months.\n",
      "0.52: Water Bank Blue Hyaluronic Cream Moisturizer '\n",
      "' favorite high end moisturizer especially for dry skin\n"
     ]
    }
   ],
   "source": [
    "#need to use the model we encoded the dataset with to encode our queries\n",
    "device = 'cuda' if torch.cuda.is_available() else 'cpu'\n",
    "model = SentenceTransformer('multi-qa-MiniLM-L6-cos-v1', device=device)\n",
    "\n",
    "query = \"What’s the best shampoo to buy for a brunette with a sensitive and dry scalp?\"\n",
    "\n",
    "#encoding the semantic question to a vector -- to compare to the embedded vectors in the dataset\n",
    "xq = model.encode(query).tolist()\n",
    "\n",
    "#this gets us the query\n",
    "xc = index.query(xq, top_k=5, include_metadata=True)\n",
    "xc\n",
    "\n",
    "\n",
    "for result in xc['matches']:\n",
    "    print(f\"{round(result['score'], 2)}: {result['metadata']['product_name']} '\\n' {result['metadata']['review_full']}\")"
   ]
  },
  {
   "cell_type": "markdown",
   "metadata": {},
   "source": [
    "## MongoDB"
   ]
  },
  {
   "cell_type": "code",
   "execution_count": null,
   "metadata": {},
   "outputs": [
    {
     "name": "stdout",
     "output_type": "stream",
     "text": [
      "Pinged your deployment. You successfully connected to MongoDB!\n"
     ]
    }
   ],
   "source": [
    "#we should be able to use the same dataset format here\n",
    "#similarly pulling a lot of set up code from docs\n",
    "#https://www.mongodb.com/developer/products/atlas/llm-accuracy-vector-search-unstructured-metadata/\n",
    "\n",
    "username = os.getenv(\"MONGO_USERNAME\")\n",
    "password = os.getenv(\"MONGO_PASSWORD\")\n",
    "cluster_uri = os.getenv(\"MONGO_URI\")\n",
    "\n",
    "uri = \"mongodb+srv://\" + username + \":\" + urllib.parse.quote(password) + cluster_uri\n",
    "\n",
    "# Create a new client and connect to the server\n",
    "client = MongoClient(uri)\n",
    "\n",
    "# Send a ping to confirm a successful connection\n",
    "try:\n",
    "    client.admin.command('ping')\n",
    "    print(\"Pinged your deployment. You successfully connected to MongoDB!\")\n",
    "except Exception as e:\n",
    "    print(e)"
   ]
  },
  {
   "cell_type": "code",
   "execution_count": 14,
   "metadata": {},
   "outputs": [
    {
     "name": "stdout",
     "output_type": "stream",
     "text": [
      "Delete operation took 23.939353466033936 seconds\n"
     ]
    }
   ],
   "source": [
    "db_name = \"benchmark\"\n",
    "collection_name = \"sephora-data\"\n",
    "\n",
    "# delete all first\n",
    "start_time = time.time()\n",
    "client[db_name][collection_name].delete_many({})\n",
    "end_time = time.time()\n",
    "elapsed_time = end_time - start_time\n",
    "print(f\"Delete operation took {elapsed_time} seconds\")"
   ]
  },
  {
   "cell_type": "code",
   "execution_count": 15,
   "metadata": {},
   "outputs": [
    {
     "name": "stdout",
     "output_type": "stream",
     "text": [
      "Create operation took 302.73352432250977 seconds\n"
     ]
    }
   ],
   "source": [
    "#it's possible to exhaust the server uploading in one batch here\n",
    "batch_size = 5000\n",
    "collection = client[db_name][collection_name]\n",
    "\n",
    "start_time = time.time()\n",
    "for i in range(0, len(dataset), batch_size):\n",
    "    batch = dataset[i:i+batch_size]\n",
    "    collection.insert_many(batch)\n",
    "end_time = time.time()\n",
    "\n",
    "elapsed_time = end_time - start_time\n",
    "print(f\"Create operation took {elapsed_time} seconds\")"
   ]
  },
  {
   "cell_type": "code",
   "execution_count": 16,
   "metadata": {},
   "outputs": [
    {
     "name": "stdout",
     "output_type": "stream",
     "text": [
      "Pure Argan Milk Intensive Hydrating Treatment '\n",
      "' Silky I’ve been in love with Josie’s products from the first time I’ve used them and this is another great product in my opinion. I wish it was a little less pricey as you are to use the Argan Oil after applying the Milk so those products together can get expensive. I started with a sample and my face glowed and I have now purchased the full size.\n",
      "Ultra Repair Cream Intense Hydration '\n",
      "' Best on the market This is the best!!! Soothing, moisturizing, even on sensitive skin. A must buy..\n",
      "100 percent Pure Argan Oil '\n",
      "' Love this for my hair I use a few drops of this oil on my hair every morning prior to drying and it has helped keep it shiny, smooth and soft. I am a brunette who colors my hair about every 5-6 weeks and my hair was getting frizzy and dry. I tried moroccan oil but didn’t care for the smell -This product allowed me to pull out the primary ingredient and its really made a noticeable change in my hair over the last three months. I have shoulder length hair and this size lasted me a little over 3 months.\n",
      "Eye Revival Brightening Eye Cream '\n",
      "' I have heard so many great things about DryBar so I was so excited to try this shampoo. First best thing I noticed was that a little product goes a very long way. I only put a small amount for my hair and it built up so much suds. Perfect for on the go especially when you have a smaller size bottle.\n",
      "100% Sugarcane Squalane Oil '\n",
      "' Best Moisturing Serum! I have severely dry skin and this serum has helped me so much! I’ve tried other serums and have disliked them because of it’s overly oily base. This one is very light and a little goes a long way! It’s also great for your hair!\n"
     ]
    }
   ],
   "source": [
    "#using the same query \n",
    "#xq is the encoded query\n",
    "\n",
    "collection = client[db_name][collection_name]\n",
    "results = collection.aggregate([\n",
    "  {\"$vectorSearch\": {\n",
    "    \"queryVector\": xq,\n",
    "    \"path\": \"values\",\n",
    "    \"numCandidates\": 100,\n",
    "    \"limit\": 5,\n",
    "    \"index\": \"sephora-index\",\n",
    "      }}\n",
    "])\n",
    "\n",
    "for result in results:\n",
    "    print(f\"{result['metadata']['product_name']} '\\n' {result['metadata']['review_full']}\")"
   ]
  },
  {
   "cell_type": "markdown",
   "metadata": {},
   "source": [
    "## Elastic"
   ]
  },
  {
   "cell_type": "code",
   "execution_count": null,
   "metadata": {},
   "outputs": [
    {
     "data": {
      "text/plain": [
       "{'name': 'instance-0000000001',\n",
       " 'cluster_name': 'd02bf6bd39e04de8a350db23d541862e',\n",
       " 'cluster_uuid': 'sTnBfndyQPqgCwTg_PhcLQ',\n",
       " 'version': {'number': '8.11.1',\n",
       "  'build_flavor': 'default',\n",
       "  'build_type': 'docker',\n",
       "  'build_hash': '6f9ff581fbcde658e6f69d6ce03050f060d1fd0c',\n",
       "  'build_date': '2023-11-11T10:05:59.421038163Z',\n",
       "  'build_snapshot': False,\n",
       "  'lucene_version': '9.8.0',\n",
       "  'minimum_wire_compatibility_version': '7.17.0',\n",
       "  'minimum_index_compatibility_version': '7.0.0'},\n",
       " 'tagline': 'You Know, for Search'}"
      ]
     },
     "execution_count": 17,
     "metadata": {},
     "output_type": "execute_result"
    }
   ],
   "source": [
    "#elastic set up docs are here\n",
    "#https://www.elastic.co/guide/en/elasticsearch/client/python-api/8.11/connecting.html\n",
    "\n",
    "ELASTIC_API_KEY = os.getenv(\"ELASTIC_API_KEY\")\n",
    "ELASTIC_URL= os.getenv(\"ELASTIC_URL\")\n",
    "\n",
    "\n",
    "elastic_client = Elasticsearch(ELASTIC_URL, \n",
    "                               api_key=ELASTIC_API_KEY,\n",
    "                               connection_class=RequestsHttpConnection)\n",
    "\n",
    "elastic_client.info()"
   ]
  },
  {
   "cell_type": "code",
   "execution_count": 21,
   "metadata": {},
   "outputs": [
    {
     "name": "stdout",
     "output_type": "stream",
     "text": [
      "Delete operation took 0.034224748611450195 seconds\n"
     ]
    }
   ],
   "source": [
    "def to_elastic():\n",
    "    for item in dataset:\n",
    "        yield {\n",
    "            \"_index\": \"sephora-data\",\n",
    "            \"_id\": item['id'],\n",
    "            \"_source\": {\n",
    "                \"values\": item['values'],\n",
    "                \"metadata\": item['metadata']\n",
    "            }\n",
    "        }\n",
    "\n",
    "elastic_data = [data for data in to_elastic()]\n",
    "#deleting existing index first\n",
    "start_time = time.time()\n",
    "elastic_client.indices.delete(index='sephora-data', ignore=[400, 404])\n",
    "end_time = time.time()\n",
    "elapsed_time = end_time - start_time\n",
    "print(f\"Delete operation took {elapsed_time} seconds\")"
   ]
  },
  {
   "cell_type": "code",
   "execution_count": 22,
   "metadata": {},
   "outputs": [
    {
     "name": "stdout",
     "output_type": "stream",
     "text": [
      "Create operation took 597.3021042346954 seconds\n"
     ]
    }
   ],
   "source": [
    "start_time = time.time()\n",
    "bulk(elastic_client, elastic_data)\n",
    "end_time = time.time()\n",
    "elapsed_time = end_time - start_time\n",
    "print(f\"Create operation took {elapsed_time} seconds\")"
   ]
  },
  {
   "cell_type": "code",
   "execution_count": 23,
   "metadata": {},
   "outputs": [
    {
     "name": "stdout",
     "output_type": "stream",
     "text": [
      "Score: 1.5581014, ID: 60444, Metadata: {'rating': 4.0, 'skin_tone': 'light', 'eye_color': 'hazel', 'skin_type': 'combination', 'hair_color': 'black', 'product_name': 'Hyaluronic Acid 2% + B5 Hydrating Serum', 'brand_name': 'The Ordinary', 'price_usd': 15.7, 'review_full': 'Perfect cheap HA. Pro tip: put some drops in the ends of your hair before your hair dries. Thank me later'}\n",
      "Score: 1.5425476, ID: 29702, Metadata: {'rating': 5.0, 'skin_tone': 'Unknown', 'eye_color': 'Unknown', 'skin_type': 'combination', 'hair_color': 'Unknown', 'product_name': 'Pure Argan Milk Intensive Hydrating Treatment', 'brand_name': 'Josie Maran', 'price_usd': 56.0, 'review_full': 'Silky I’ve been in love with Josie’s products from the first time I’ve used them and this is another great product in my opinion. I wish it was a little less pricey as you are to use the Argan Oil after applying the Milk so those products together can get expensive. I started with a sample and my face glowed and I have now purchased the full size.'}\n",
      "Score: 1.5285108, ID: 34004, Metadata: {'rating': 5.0, 'skin_tone': 'Unknown', 'eye_color': 'Unknown', 'skin_type': 'Unknown', 'hair_color': 'Unknown', 'product_name': 'Ultra Repair Cream Intense Hydration', 'brand_name': 'First Aid Beauty', 'price_usd': 38.0, 'review_full': 'Best on the market This is the best!!! Soothing, moisturizing, even on sensitive skin. A must buy..'}\n",
      "Score: 1.5240474, ID: 50525, Metadata: {'rating': 5.0, 'skin_tone': 'light', 'eye_color': 'Unknown', 'skin_type': 'combination', 'hair_color': 'Unknown', 'product_name': '100 percent Pure Argan Oil', 'brand_name': 'Josie Maran', 'price_usd': 49.0, 'review_full': 'Love this for my hair I use a few drops of this oil on my hair every morning prior to drying and it has helped keep it shiny, smooth and soft. I am a brunette who colors my hair about every 5-6 weeks and my hair was getting frizzy and dry. I tried moroccan oil but didn’t care for the smell -This product allowed me to pull out the primary ingredient and its really made a noticeable change in my hair over the last three months. I have shoulder length hair and this size lasted me a little over 3 months.'}\n",
      "Score: 1.5215006, ID: 86076, Metadata: {'rating': 5.0, 'skin_tone': 'lightMedium', 'eye_color': 'brown', 'skin_type': 'dry', 'hair_color': 'brown', 'product_name': 'Water Bank Blue Hyaluronic Cream Moisturizer', 'brand_name': 'LANEIGE', 'price_usd': 40.0, 'review_full': 'favorite high end moisturizer especially for dry skin'}\n",
      "Score: 1.5117126, ID: 23098, Metadata: {'rating': 1.0, 'skin_tone': 'mediumTan', 'eye_color': 'hazel', 'skin_type': 'combination', 'hair_color': 'brown', 'product_name': 'Lip Sleeping Mask Intense Hydration with Vitamin C', 'brand_name': 'LANEIGE', 'price_usd': 24.0, 'review_full': 'I really wanted to love this product as I’m desperate to improve my dry lip issues. This left my lips so brittle and chapped I was embarrassed to leave the house the next day.  Do not recommend and I can’t believe I spent $20 on this sham.'}\n",
      "Score: 1.5082753, ID: 35796, Metadata: {'rating': 5.0, 'skin_tone': 'mediumTan', 'eye_color': 'brown', 'skin_type': 'combination', 'hair_color': 'brown', 'product_name': 'Eye Revival Brightening Eye Cream', 'brand_name': 'ROSE INC', 'price_usd': 55.0, 'review_full': 'I have heard so many great things about DryBar so I was so excited to try this shampoo. First best thing I noticed was that a little product goes a very long way. I only put a small amount for my hair and it built up so much suds. Perfect for on the go especially when you have a smaller size bottle.'}\n",
      "Score: 1.5075908, ID: 25772, Metadata: {'rating': 5.0, 'skin_tone': 'mediumTan', 'eye_color': 'green', 'skin_type': 'dry', 'hair_color': 'brown', 'product_name': '100% Sugarcane Squalane Oil', 'brand_name': 'Biossance', 'price_usd': 34.0, 'review_full': 'Best Moisturing Serum! I have severely dry skin and this serum has helped me so much! I’ve tried other serums and have disliked them because of it’s overly oily base. This one is very light and a little goes a long way! It’s also great for your hair!'}\n",
      "Score: 1.5017146, ID: 86842, Metadata: {'rating': 5.0, 'skin_tone': 'Unknown', 'eye_color': 'Unknown', 'skin_type': 'dry', 'hair_color': 'Unknown', 'product_name': '100 percent Pure Argan Oil', 'brand_name': 'Josie Maran', 'price_usd': 49.0, 'review_full': \"Curly Girl's Dream-come-true! I wish there were words for how much I love this! It’s so multipurpose and amazing!!!!I’m a user of the curly girl method (no shampoo, sulfates, etc) and this works AMAZINGLY with my hair routine! About once a month I shampoo my hair to remove build up (using Devacurl’s Low-poo) and follow it up with some deep conditioner and then apply this from my ears down. I have naturally curly, dry hair with some greys and this is AMAZING! My hair feels silky, springy and softer than ever! It’s a miracle in a bottle!On my skin is works miracles on my combination skin. My forehead is always intensely dry in winter and this has been a life saver! On my dry elbows-heaven!!I will keep repurchasing and recommending this product!\"}\n",
      "Score: 1.5002687, ID: 53645, Metadata: {'rating': 5.0, 'skin_tone': 'Unknown', 'eye_color': 'Unknown', 'skin_type': 'Unknown', 'hair_color': 'Unknown', 'product_name': 'Perfectly Clean Multi-Action Foam Cleanser/Purifying Mask', 'brand_name': 'Estée Lauder', 'price_usd': 30.0, 'review_full': 'The best This product is a must have in my beauty regimen. I have tried many different cleansers and by far this one is my absolute favorite!'}\n"
     ]
    }
   ],
   "source": [
    "#using xq again\n",
    "body = {\n",
    "    \"query\": {\n",
    "        \"script_score\": {\n",
    "            \"query\": {\"match_all\": {}},\n",
    "            \"script\": {\n",
    "                \"source\": \"cosineSimilarity(params.query_vector, 'values') + 1.0\",\n",
    "                \"params\": {\"query_vector\": xq}\n",
    "            }\n",
    "        }\n",
    "    }\n",
    "}\n",
    "\n",
    "res = elastic_client.search(index=\"sephora-data\", body=body)\n",
    "\n",
    "for hit in res['hits']['hits']:\n",
    "    print(f\"Score: {hit['_score']}, ID: {hit['_id']}, Metadata: {hit['_source']['metadata']}\")"
   ]
  }
 ],
 "metadata": {
  "kernelspec": {
   "display_name": "dbenv",
   "language": "python",
   "name": "python3"
  },
  "language_info": {
   "codemirror_mode": {
    "name": "ipython",
    "version": 3
   },
   "file_extension": ".py",
   "mimetype": "text/x-python",
   "name": "python",
   "nbconvert_exporter": "python",
   "pygments_lexer": "ipython3",
   "version": "3.11.6"
  }
 },
 "nbformat": 4,
 "nbformat_minor": 2
}
